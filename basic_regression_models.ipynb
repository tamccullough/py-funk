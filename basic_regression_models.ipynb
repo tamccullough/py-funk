{
 "cells": [
  {
   "cell_type": "markdown",
   "metadata": {},
   "source": [
    "### Predicting House Prices"
   ]
  },
  {
   "cell_type": "code",
   "execution_count": 1,
   "metadata": {},
   "outputs": [],
   "source": [
    "#importing the libraries\n",
    "\n",
    "from __future__ import absolute_import, division, print_function, unicode_literals\n",
    "import category_encoders as ce\n",
    "import pathlib\n",
    "import matplotlib.pyplot as plt\n",
    "import numpy as np\n",
    "import pandas as pd\n",
    "import pickle\n",
    "import seaborn as sns\n",
    "import math\n",
    "colours = sns.set_palette('pastel')"
   ]
  },
  {
   "cell_type": "code",
   "execution_count": 2,
   "metadata": {},
   "outputs": [],
   "source": [
    "from math import sqrt\n",
    "from sklearn.metrics import mean_squared_error\n",
    "from sklearn.model_selection import train_test_split\n",
    "from sklearn.metrics import r2_score\n",
    "\n",
    "from sklearn.linear_model import LinearRegression\n",
    "from sklearn.ensemble import RandomForestRegressor\n",
    "from sklearn.tree import DecisionTreeRegressor "
   ]
  },
  {
   "cell_type": "code",
   "execution_count": 3,
   "metadata": {},
   "outputs": [
    {
     "name": "stdout",
     "output_type": "stream",
     "text": [
      "2.1.0\n"
     ]
    }
   ],
   "source": [
    "import tensorflow as tf\n",
    "\n",
    "from tensorflow import keras\n",
    "from tensorflow.keras import layers\n",
    "print(tf.__version__)"
   ]
  },
  {
   "cell_type": "code",
   "execution_count": 86,
   "metadata": {},
   "outputs": [],
   "source": [
    "def plot_model(model):\n",
    "    test_predictions = model.predict(normed_x).flatten()\n",
    "    plt.figure(figsize=[7,7])\n",
    "    plt.scatter(saleprice, saleprice,s=area, c='r', marker='.', alpha=0.5)\n",
    "    plt.scatter(saleprice, test_predictions,s=area, c=area, alpha=0.35)\n",
    "    plt.xlabel('True Values [SalePrice]',color='r')\n",
    "    plt.ylabel('Predictions [SalePrice]',color='g')\n",
    "    plt.xlim([0,plt.xlim()[1]])\n",
    "    plt.ylim([0,plt.ylim()[1]])\n",
    "    _ = plt.plot([-100, 100], [-100, 100])\n",
    "    _ = plt.plot()\n",
    "    #plt.savefig('decision_plot.svg')"
   ]
  },
  {
   "cell_type": "markdown",
   "metadata": {},
   "source": [
    "### Preprocessing Data"
   ]
  },
  {
   "cell_type": "code",
   "execution_count": 4,
   "metadata": {},
   "outputs": [],
   "source": [
    "#import the datasets\n",
    "trn_csv = pd.read_csv('datasets/basic_regression_train.csv')\n",
    "tst_csv = pd.read_csv('datasets/basic_regression_test.csv')"
   ]
  },
  {
   "cell_type": "code",
   "execution_count": 5,
   "metadata": {},
   "outputs": [
    {
     "name": "stdout",
     "output_type": "stream",
     "text": [
      "(1460, 81) (1459, 80)\n"
     ]
    }
   ],
   "source": [
    "#create dataframes to store the imported data to avoid making changes to it\n",
    "train = trn_csv.copy()\n",
    "test = tst_csv.copy()\n",
    "print(train.shape, test.shape)"
   ]
  },
  {
   "cell_type": "code",
   "execution_count": 6,
   "metadata": {},
   "outputs": [
    {
     "data": {
      "text/plain": [
       "0.26384335387140556"
      ]
     },
     "execution_count": 6,
     "metadata": {},
     "output_type": "execute_result"
    }
   ],
   "source": [
    "train['SalePrice'].corr(train['LotArea'])"
   ]
  },
  {
   "cell_type": "code",
   "execution_count": 7,
   "metadata": {},
   "outputs": [
    {
     "data": {
      "text/html": [
       "<div>\n",
       "<style scoped>\n",
       "    .dataframe tbody tr th:only-of-type {\n",
       "        vertical-align: middle;\n",
       "    }\n",
       "\n",
       "    .dataframe tbody tr th {\n",
       "        vertical-align: top;\n",
       "    }\n",
       "\n",
       "    .dataframe thead th {\n",
       "        text-align: right;\n",
       "    }\n",
       "</style>\n",
       "<table border=\"1\" class=\"dataframe\">\n",
       "  <thead>\n",
       "    <tr style=\"text-align: right;\">\n",
       "      <th></th>\n",
       "      <th>Id</th>\n",
       "      <th>MSSubClass</th>\n",
       "      <th>MSZoning</th>\n",
       "      <th>LotFrontage</th>\n",
       "      <th>LotArea</th>\n",
       "      <th>Street</th>\n",
       "      <th>Alley</th>\n",
       "      <th>LotShape</th>\n",
       "      <th>LandContour</th>\n",
       "      <th>Utilities</th>\n",
       "      <th>...</th>\n",
       "      <th>PoolArea</th>\n",
       "      <th>PoolQC</th>\n",
       "      <th>Fence</th>\n",
       "      <th>MiscFeature</th>\n",
       "      <th>MiscVal</th>\n",
       "      <th>MoSold</th>\n",
       "      <th>YrSold</th>\n",
       "      <th>SaleType</th>\n",
       "      <th>SaleCondition</th>\n",
       "      <th>SalePrice</th>\n",
       "    </tr>\n",
       "  </thead>\n",
       "  <tbody>\n",
       "    <tr>\n",
       "      <th>0</th>\n",
       "      <td>1</td>\n",
       "      <td>60</td>\n",
       "      <td>RL</td>\n",
       "      <td>65.0</td>\n",
       "      <td>8450</td>\n",
       "      <td>Pave</td>\n",
       "      <td>NaN</td>\n",
       "      <td>Reg</td>\n",
       "      <td>Lvl</td>\n",
       "      <td>AllPub</td>\n",
       "      <td>...</td>\n",
       "      <td>0</td>\n",
       "      <td>NaN</td>\n",
       "      <td>NaN</td>\n",
       "      <td>NaN</td>\n",
       "      <td>0</td>\n",
       "      <td>2</td>\n",
       "      <td>2008</td>\n",
       "      <td>WD</td>\n",
       "      <td>Normal</td>\n",
       "      <td>208500</td>\n",
       "    </tr>\n",
       "    <tr>\n",
       "      <th>1</th>\n",
       "      <td>2</td>\n",
       "      <td>20</td>\n",
       "      <td>RL</td>\n",
       "      <td>80.0</td>\n",
       "      <td>9600</td>\n",
       "      <td>Pave</td>\n",
       "      <td>NaN</td>\n",
       "      <td>Reg</td>\n",
       "      <td>Lvl</td>\n",
       "      <td>AllPub</td>\n",
       "      <td>...</td>\n",
       "      <td>0</td>\n",
       "      <td>NaN</td>\n",
       "      <td>NaN</td>\n",
       "      <td>NaN</td>\n",
       "      <td>0</td>\n",
       "      <td>5</td>\n",
       "      <td>2007</td>\n",
       "      <td>WD</td>\n",
       "      <td>Normal</td>\n",
       "      <td>181500</td>\n",
       "    </tr>\n",
       "  </tbody>\n",
       "</table>\n",
       "<p>2 rows × 81 columns</p>\n",
       "</div>"
      ],
      "text/plain": [
       "   Id  MSSubClass MSZoning  LotFrontage  LotArea Street Alley LotShape  \\\n",
       "0   1          60       RL         65.0     8450   Pave   NaN      Reg   \n",
       "1   2          20       RL         80.0     9600   Pave   NaN      Reg   \n",
       "\n",
       "  LandContour Utilities  ... PoolArea PoolQC Fence MiscFeature MiscVal MoSold  \\\n",
       "0         Lvl    AllPub  ...        0    NaN   NaN         NaN       0      2   \n",
       "1         Lvl    AllPub  ...        0    NaN   NaN         NaN       0      5   \n",
       "\n",
       "  YrSold  SaleType  SaleCondition  SalePrice  \n",
       "0   2008        WD         Normal     208500  \n",
       "1   2007        WD         Normal     181500  \n",
       "\n",
       "[2 rows x 81 columns]"
      ]
     },
     "execution_count": 7,
     "metadata": {},
     "output_type": "execute_result"
    }
   ],
   "source": [
    "train.head(2)"
   ]
  },
  {
   "cell_type": "code",
   "execution_count": 8,
   "metadata": {},
   "outputs": [
    {
     "data": {
      "text/html": [
       "<div>\n",
       "<style scoped>\n",
       "    .dataframe tbody tr th:only-of-type {\n",
       "        vertical-align: middle;\n",
       "    }\n",
       "\n",
       "    .dataframe tbody tr th {\n",
       "        vertical-align: top;\n",
       "    }\n",
       "\n",
       "    .dataframe thead th {\n",
       "        text-align: right;\n",
       "    }\n",
       "</style>\n",
       "<table border=\"1\" class=\"dataframe\">\n",
       "  <thead>\n",
       "    <tr style=\"text-align: right;\">\n",
       "      <th></th>\n",
       "      <th>Id</th>\n",
       "      <th>MSSubClass</th>\n",
       "      <th>MSZoning</th>\n",
       "      <th>LotFrontage</th>\n",
       "      <th>LotArea</th>\n",
       "      <th>Street</th>\n",
       "      <th>Alley</th>\n",
       "      <th>LotShape</th>\n",
       "      <th>LandContour</th>\n",
       "      <th>Utilities</th>\n",
       "      <th>...</th>\n",
       "      <th>PoolArea</th>\n",
       "      <th>PoolQC</th>\n",
       "      <th>Fence</th>\n",
       "      <th>MiscFeature</th>\n",
       "      <th>MiscVal</th>\n",
       "      <th>MoSold</th>\n",
       "      <th>YrSold</th>\n",
       "      <th>SaleType</th>\n",
       "      <th>SaleCondition</th>\n",
       "      <th>SalePrice</th>\n",
       "    </tr>\n",
       "  </thead>\n",
       "  <tbody>\n",
       "    <tr>\n",
       "      <th>1458</th>\n",
       "      <td>1459</td>\n",
       "      <td>20</td>\n",
       "      <td>RL</td>\n",
       "      <td>68.0</td>\n",
       "      <td>9717</td>\n",
       "      <td>Pave</td>\n",
       "      <td>NaN</td>\n",
       "      <td>Reg</td>\n",
       "      <td>Lvl</td>\n",
       "      <td>AllPub</td>\n",
       "      <td>...</td>\n",
       "      <td>0</td>\n",
       "      <td>NaN</td>\n",
       "      <td>NaN</td>\n",
       "      <td>NaN</td>\n",
       "      <td>0</td>\n",
       "      <td>4</td>\n",
       "      <td>2010</td>\n",
       "      <td>WD</td>\n",
       "      <td>Normal</td>\n",
       "      <td>142125</td>\n",
       "    </tr>\n",
       "    <tr>\n",
       "      <th>1459</th>\n",
       "      <td>1460</td>\n",
       "      <td>20</td>\n",
       "      <td>RL</td>\n",
       "      <td>75.0</td>\n",
       "      <td>9937</td>\n",
       "      <td>Pave</td>\n",
       "      <td>NaN</td>\n",
       "      <td>Reg</td>\n",
       "      <td>Lvl</td>\n",
       "      <td>AllPub</td>\n",
       "      <td>...</td>\n",
       "      <td>0</td>\n",
       "      <td>NaN</td>\n",
       "      <td>NaN</td>\n",
       "      <td>NaN</td>\n",
       "      <td>0</td>\n",
       "      <td>6</td>\n",
       "      <td>2008</td>\n",
       "      <td>WD</td>\n",
       "      <td>Normal</td>\n",
       "      <td>147500</td>\n",
       "    </tr>\n",
       "  </tbody>\n",
       "</table>\n",
       "<p>2 rows × 81 columns</p>\n",
       "</div>"
      ],
      "text/plain": [
       "        Id  MSSubClass MSZoning  LotFrontage  LotArea Street Alley LotShape  \\\n",
       "1458  1459          20       RL         68.0     9717   Pave   NaN      Reg   \n",
       "1459  1460          20       RL         75.0     9937   Pave   NaN      Reg   \n",
       "\n",
       "     LandContour Utilities  ... PoolArea PoolQC Fence MiscFeature MiscVal  \\\n",
       "1458         Lvl    AllPub  ...        0    NaN   NaN         NaN       0   \n",
       "1459         Lvl    AllPub  ...        0    NaN   NaN         NaN       0   \n",
       "\n",
       "     MoSold YrSold  SaleType  SaleCondition  SalePrice  \n",
       "1458      4   2010        WD         Normal     142125  \n",
       "1459      6   2008        WD         Normal     147500  \n",
       "\n",
       "[2 rows x 81 columns]"
      ]
     },
     "execution_count": 8,
     "metadata": {},
     "output_type": "execute_result"
    }
   ],
   "source": [
    "train.tail(2)"
   ]
  },
  {
   "cell_type": "markdown",
   "metadata": {},
   "source": [
    "### Exploratory Data Analysis"
   ]
  },
  {
   "cell_type": "code",
   "execution_count": 9,
   "metadata": {},
   "outputs": [
    {
     "data": {
      "text/plain": [
       "Id                 0\n",
       "MSSubClass         0\n",
       "MSZoning           0\n",
       "LotFrontage      259\n",
       "LotArea            0\n",
       "                ... \n",
       "MoSold             0\n",
       "YrSold             0\n",
       "SaleType           0\n",
       "SaleCondition      0\n",
       "SalePrice          0\n",
       "Length: 81, dtype: int64"
      ]
     },
     "execution_count": 9,
     "metadata": {},
     "output_type": "execute_result"
    }
   ],
   "source": [
    "# Check for null entries in each column. These will have to be addressed during preprocessing\n",
    "train.isnull().sum()"
   ]
  },
  {
   "cell_type": "code",
   "execution_count": 10,
   "metadata": {},
   "outputs": [
    {
     "data": {
      "text/plain": [
       "Id               0.000000\n",
       "MSSubClass       0.000000\n",
       "MSZoning         0.000000\n",
       "LotFrontage      0.177397\n",
       "LotArea          0.000000\n",
       "                   ...   \n",
       "MoSold           0.000000\n",
       "YrSold           0.000000\n",
       "SaleType         0.000000\n",
       "SaleCondition    0.000000\n",
       "SalePrice        0.000000\n",
       "Length: 81, dtype: float64"
      ]
     },
     "execution_count": 10,
     "metadata": {},
     "output_type": "execute_result"
    }
   ],
   "source": [
    "train.isnull().mean()"
   ]
  },
  {
   "cell_type": "code",
   "execution_count": 11,
   "metadata": {},
   "outputs": [
    {
     "data": {
      "text/html": [
       "<div>\n",
       "<style scoped>\n",
       "    .dataframe tbody tr th:only-of-type {\n",
       "        vertical-align: middle;\n",
       "    }\n",
       "\n",
       "    .dataframe tbody tr th {\n",
       "        vertical-align: top;\n",
       "    }\n",
       "\n",
       "    .dataframe thead th {\n",
       "        text-align: right;\n",
       "    }\n",
       "</style>\n",
       "<table border=\"1\" class=\"dataframe\">\n",
       "  <thead>\n",
       "    <tr style=\"text-align: right;\">\n",
       "      <th></th>\n",
       "      <th>Id</th>\n",
       "      <th>MSSubClass</th>\n",
       "      <th>MSZoning</th>\n",
       "      <th>LotFrontage</th>\n",
       "      <th>LotArea</th>\n",
       "      <th>Street</th>\n",
       "      <th>LotShape</th>\n",
       "      <th>LandContour</th>\n",
       "      <th>Utilities</th>\n",
       "      <th>LotConfig</th>\n",
       "      <th>...</th>\n",
       "      <th>EnclosedPorch</th>\n",
       "      <th>3SsnPorch</th>\n",
       "      <th>ScreenPorch</th>\n",
       "      <th>PoolArea</th>\n",
       "      <th>MiscVal</th>\n",
       "      <th>MoSold</th>\n",
       "      <th>YrSold</th>\n",
       "      <th>SaleType</th>\n",
       "      <th>SaleCondition</th>\n",
       "      <th>SalePrice</th>\n",
       "    </tr>\n",
       "  </thead>\n",
       "  <tbody>\n",
       "    <tr>\n",
       "      <th>0</th>\n",
       "      <td>1</td>\n",
       "      <td>60</td>\n",
       "      <td>RL</td>\n",
       "      <td>65.0</td>\n",
       "      <td>8450</td>\n",
       "      <td>Pave</td>\n",
       "      <td>Reg</td>\n",
       "      <td>Lvl</td>\n",
       "      <td>AllPub</td>\n",
       "      <td>Inside</td>\n",
       "      <td>...</td>\n",
       "      <td>0</td>\n",
       "      <td>0</td>\n",
       "      <td>0</td>\n",
       "      <td>0</td>\n",
       "      <td>0</td>\n",
       "      <td>2</td>\n",
       "      <td>2008</td>\n",
       "      <td>WD</td>\n",
       "      <td>Normal</td>\n",
       "      <td>208500</td>\n",
       "    </tr>\n",
       "    <tr>\n",
       "      <th>1</th>\n",
       "      <td>2</td>\n",
       "      <td>20</td>\n",
       "      <td>RL</td>\n",
       "      <td>80.0</td>\n",
       "      <td>9600</td>\n",
       "      <td>Pave</td>\n",
       "      <td>Reg</td>\n",
       "      <td>Lvl</td>\n",
       "      <td>AllPub</td>\n",
       "      <td>FR2</td>\n",
       "      <td>...</td>\n",
       "      <td>0</td>\n",
       "      <td>0</td>\n",
       "      <td>0</td>\n",
       "      <td>0</td>\n",
       "      <td>0</td>\n",
       "      <td>5</td>\n",
       "      <td>2007</td>\n",
       "      <td>WD</td>\n",
       "      <td>Normal</td>\n",
       "      <td>181500</td>\n",
       "    </tr>\n",
       "  </tbody>\n",
       "</table>\n",
       "<p>2 rows × 77 columns</p>\n",
       "</div>"
      ],
      "text/plain": [
       "   Id  MSSubClass MSZoning  LotFrontage  LotArea Street LotShape LandContour  \\\n",
       "0   1          60       RL         65.0     8450   Pave      Reg         Lvl   \n",
       "1   2          20       RL         80.0     9600   Pave      Reg         Lvl   \n",
       "\n",
       "  Utilities LotConfig  ... EnclosedPorch 3SsnPorch ScreenPorch PoolArea  \\\n",
       "0    AllPub    Inside  ...             0         0           0        0   \n",
       "1    AllPub       FR2  ...             0         0           0        0   \n",
       "\n",
       "  MiscVal MoSold  YrSold  SaleType  SaleCondition  SalePrice  \n",
       "0       0      2    2008        WD         Normal     208500  \n",
       "1       0      5    2007        WD         Normal     181500  \n",
       "\n",
       "[2 rows x 77 columns]"
      ]
     },
     "execution_count": 11,
     "metadata": {},
     "output_type": "execute_result"
    }
   ],
   "source": [
    "# Remove all the features having more than 50% null values\n",
    "train = train[train.columns[train.isnull().mean() < 0.5]]\n",
    "train.head(2)"
   ]
  },
  {
   "cell_type": "code",
   "execution_count": 12,
   "metadata": {},
   "outputs": [
    {
     "data": {
      "text/plain": [
       "Id                 0\n",
       "MSSubClass         0\n",
       "MSZoning           0\n",
       "LotFrontage      259\n",
       "LotArea            0\n",
       "                ... \n",
       "MoSold             0\n",
       "YrSold             0\n",
       "SaleType           0\n",
       "SaleCondition      0\n",
       "SalePrice          0\n",
       "Length: 77, dtype: int64"
      ]
     },
     "execution_count": 12,
     "metadata": {},
     "output_type": "execute_result"
    }
   ],
   "source": [
    "#Missing Values and Imputation\n",
    "train.isna().sum()"
   ]
  },
  {
   "cell_type": "code",
   "execution_count": 13,
   "metadata": {},
   "outputs": [
    {
     "data": {
      "text/plain": [
       "Text(0.5, 1.0, 'Missing Values')"
      ]
     },
     "execution_count": 13,
     "metadata": {},
     "output_type": "execute_result"
    },
    {
     "data": {
      "image/png": "[encoded data removed]",
      "text/plain": [
       "<Figure size 432x288 with 1 Axes>"
      ]
     },
     "metadata": {
      "needs_background": "light"
     },
     "output_type": "display_data"
    }
   ],
   "source": [
    "#Plotting Missing Values\n",
    "missingvalues = train.isnull().sum()\n",
    "missingvalues = missingvalues[missingvalues > 0]\n",
    "missingvalues.plot.bar(color='darkorchid', alpha=0.5)\n",
    "plt.xlabel('Features',fontsize=10)\n",
    "plt.ylabel('Count',fontsize = 10)\n",
    "plt.title('Missing Values', fontsize=10)"
   ]
  },
  {
   "cell_type": "code",
   "execution_count": 14,
   "metadata": {},
   "outputs": [
    {
     "data": {
      "text/plain": [
       "LotFrontage    259\n",
       "MasVnrType       8\n",
       "dtype: int64"
      ]
     },
     "execution_count": 14,
     "metadata": {},
     "output_type": "execute_result"
    }
   ],
   "source": [
    "#Columns with missing values\n",
    "missingvalues.head(2)"
   ]
  },
  {
   "cell_type": "markdown",
   "metadata": {},
   "source": [
    "### Pop out important columns regardless of correlation"
   ]
  },
  {
   "cell_type": "code",
   "execution_count": 15,
   "metadata": {},
   "outputs": [],
   "source": [
    "# Remove the encoded columns, to be readded later\n",
    "hood = train.pop('Neighborhood')\n",
    "style = train.pop('HouseStyle')\n",
    "kitchen = train.pop('KitchenQual')\n",
    "building = train.pop('BldgType')\n",
    "overall = train.pop('OverallCond')"
   ]
  },
  {
   "cell_type": "markdown",
   "metadata": {},
   "source": [
    "### Drop columns with Low Correlation"
   ]
  },
  {
   "cell_type": "code",
   "execution_count": 16,
   "metadata": {},
   "outputs": [],
   "source": [
    "#find the columns that will not be dropped\n",
    "kept = train.copy()"
   ]
  },
  {
   "cell_type": "markdown",
   "metadata": {},
   "source": [
    "### Feature Encoding\n",
    "---\n",
    "#### Encoding with cat.codes"
   ]
  },
  {
   "cell_type": "code",
   "execution_count": 17,
   "metadata": {},
   "outputs": [],
   "source": [
    "# Uses ordinal encoding to encode string data\n",
    "def encode_df(frame):\n",
    "    columns = frame.select_dtypes(include=['object']).columns\n",
    "    i = 0\n",
    "    j = int(len(columns))\n",
    "    for i in range(0,j):\n",
    "        frame[columns[i]] = frame[columns[i]].astype('category')\n",
    "        frame[columns[i]] = frame[columns[i]].cat.codes\n",
    "        i = i + 1\n",
    "    return frame"
   ]
  },
  {
   "cell_type": "code",
   "execution_count": 18,
   "metadata": {},
   "outputs": [
    {
     "data": {
      "text/html": [
       "<div>\n",
       "<style scoped>\n",
       "    .dataframe tbody tr th:only-of-type {\n",
       "        vertical-align: middle;\n",
       "    }\n",
       "\n",
       "    .dataframe tbody tr th {\n",
       "        vertical-align: top;\n",
       "    }\n",
       "\n",
       "    .dataframe thead th {\n",
       "        text-align: right;\n",
       "    }\n",
       "</style>\n",
       "<table border=\"1\" class=\"dataframe\">\n",
       "  <thead>\n",
       "    <tr style=\"text-align: right;\">\n",
       "      <th></th>\n",
       "      <th>Id</th>\n",
       "      <th>MSSubClass</th>\n",
       "      <th>MSZoning</th>\n",
       "      <th>LotFrontage</th>\n",
       "      <th>LotArea</th>\n",
       "      <th>Street</th>\n",
       "      <th>LotShape</th>\n",
       "      <th>LandContour</th>\n",
       "      <th>Utilities</th>\n",
       "      <th>LotConfig</th>\n",
       "      <th>...</th>\n",
       "      <th>EnclosedPorch</th>\n",
       "      <th>3SsnPorch</th>\n",
       "      <th>ScreenPorch</th>\n",
       "      <th>PoolArea</th>\n",
       "      <th>MiscVal</th>\n",
       "      <th>MoSold</th>\n",
       "      <th>YrSold</th>\n",
       "      <th>SaleType</th>\n",
       "      <th>SaleCondition</th>\n",
       "      <th>SalePrice</th>\n",
       "    </tr>\n",
       "  </thead>\n",
       "  <tbody>\n",
       "    <tr>\n",
       "      <th>0</th>\n",
       "      <td>1</td>\n",
       "      <td>60</td>\n",
       "      <td>3</td>\n",
       "      <td>65.0</td>\n",
       "      <td>8450</td>\n",
       "      <td>1</td>\n",
       "      <td>3</td>\n",
       "      <td>3</td>\n",
       "      <td>0</td>\n",
       "      <td>4</td>\n",
       "      <td>...</td>\n",
       "      <td>0</td>\n",
       "      <td>0</td>\n",
       "      <td>0</td>\n",
       "      <td>0</td>\n",
       "      <td>0</td>\n",
       "      <td>2</td>\n",
       "      <td>2008</td>\n",
       "      <td>8</td>\n",
       "      <td>4</td>\n",
       "      <td>208500</td>\n",
       "    </tr>\n",
       "    <tr>\n",
       "      <th>1</th>\n",
       "      <td>2</td>\n",
       "      <td>20</td>\n",
       "      <td>3</td>\n",
       "      <td>80.0</td>\n",
       "      <td>9600</td>\n",
       "      <td>1</td>\n",
       "      <td>3</td>\n",
       "      <td>3</td>\n",
       "      <td>0</td>\n",
       "      <td>2</td>\n",
       "      <td>...</td>\n",
       "      <td>0</td>\n",
       "      <td>0</td>\n",
       "      <td>0</td>\n",
       "      <td>0</td>\n",
       "      <td>0</td>\n",
       "      <td>5</td>\n",
       "      <td>2007</td>\n",
       "      <td>8</td>\n",
       "      <td>4</td>\n",
       "      <td>181500</td>\n",
       "    </tr>\n",
       "  </tbody>\n",
       "</table>\n",
       "<p>2 rows × 72 columns</p>\n",
       "</div>"
      ],
      "text/plain": [
       "   Id  MSSubClass  MSZoning  LotFrontage  LotArea  Street  LotShape  \\\n",
       "0   1          60         3         65.0     8450       1         3   \n",
       "1   2          20         3         80.0     9600       1         3   \n",
       "\n",
       "   LandContour  Utilities  LotConfig  ...  EnclosedPorch  3SsnPorch  \\\n",
       "0            3          0          4  ...              0          0   \n",
       "1            3          0          2  ...              0          0   \n",
       "\n",
       "   ScreenPorch  PoolArea  MiscVal  MoSold  YrSold  SaleType  SaleCondition  \\\n",
       "0            0         0        0       2    2008         8              4   \n",
       "1            0         0        0       5    2007         8              4   \n",
       "\n",
       "   SalePrice  \n",
       "0     208500  \n",
       "1     181500  \n",
       "\n",
       "[2 rows x 72 columns]"
      ]
     },
     "execution_count": 18,
     "metadata": {},
     "output_type": "execute_result"
    }
   ],
   "source": [
    "encode_df(kept)\n",
    "kept.head(2)"
   ]
  },
  {
   "cell_type": "code",
   "execution_count": 19,
   "metadata": {},
   "outputs": [],
   "source": [
    "# Drops columns with a correlation to SalePrice less than \"cut\", in this case 0.5\n",
    "def drop_corr(frame):\n",
    "    #cut = float(input('Enter the float value for the cutoff: '))\n",
    "    cut = 0.5\n",
    "    index = frame.columns\n",
    "    i = 1\n",
    "    u = len(index)\n",
    "    dropped = 0\n",
    "    kept = 0\n",
    "\n",
    "    while i < u:\n",
    "        if abs(frame['SalePrice'].corr(frame[index[i]])) < cut:\n",
    "            frame.pop(index[i])\n",
    "            dropped = dropped + 1\n",
    "            print('.', end='')\n",
    "        else:\n",
    "            print('^', end='')\n",
    "            kept = kept + 1\n",
    "        i = i + 1\n",
    "    print('\\nCompleted.')\n",
    "    print('\\nDropped = ', dropped)\n",
    "    print('\\nKept = ', kept)\n",
    "    print('\\n',frame.shape)\n",
    "    return frame"
   ]
  },
  {
   "cell_type": "code",
   "execution_count": 20,
   "metadata": {},
   "outputs": [
    {
     "name": "stdout",
     "output_type": "stream",
     "text": [
      "............^^^......^..........^....^..^..^...^......^^..............^\n",
      "Completed.\n",
      "\n",
      "Dropped =  59\n",
      "\n",
      "Kept =  12\n",
      "\n",
      " (1460, 13)\n"
     ]
    },
    {
     "data": {
      "text/html": [
       "<div>\n",
       "<style scoped>\n",
       "    .dataframe tbody tr th:only-of-type {\n",
       "        vertical-align: middle;\n",
       "    }\n",
       "\n",
       "    .dataframe tbody tr th {\n",
       "        vertical-align: top;\n",
       "    }\n",
       "\n",
       "    .dataframe thead th {\n",
       "        text-align: right;\n",
       "    }\n",
       "</style>\n",
       "<table border=\"1\" class=\"dataframe\">\n",
       "  <thead>\n",
       "    <tr style=\"text-align: right;\">\n",
       "      <th></th>\n",
       "      <th>Id</th>\n",
       "      <th>OverallQual</th>\n",
       "      <th>YearBuilt</th>\n",
       "      <th>YearRemodAdd</th>\n",
       "      <th>ExterQual</th>\n",
       "      <th>TotalBsmtSF</th>\n",
       "      <th>1stFlrSF</th>\n",
       "      <th>GrLivArea</th>\n",
       "      <th>FullBath</th>\n",
       "      <th>TotRmsAbvGrd</th>\n",
       "      <th>GarageCars</th>\n",
       "      <th>GarageArea</th>\n",
       "      <th>SalePrice</th>\n",
       "    </tr>\n",
       "  </thead>\n",
       "  <tbody>\n",
       "    <tr>\n",
       "      <th>0</th>\n",
       "      <td>1</td>\n",
       "      <td>7</td>\n",
       "      <td>2003</td>\n",
       "      <td>2003</td>\n",
       "      <td>2</td>\n",
       "      <td>856</td>\n",
       "      <td>856</td>\n",
       "      <td>1710</td>\n",
       "      <td>2</td>\n",
       "      <td>8</td>\n",
       "      <td>2</td>\n",
       "      <td>548</td>\n",
       "      <td>208500</td>\n",
       "    </tr>\n",
       "    <tr>\n",
       "      <th>1</th>\n",
       "      <td>2</td>\n",
       "      <td>6</td>\n",
       "      <td>1976</td>\n",
       "      <td>1976</td>\n",
       "      <td>3</td>\n",
       "      <td>1262</td>\n",
       "      <td>1262</td>\n",
       "      <td>1262</td>\n",
       "      <td>2</td>\n",
       "      <td>6</td>\n",
       "      <td>2</td>\n",
       "      <td>460</td>\n",
       "      <td>181500</td>\n",
       "    </tr>\n",
       "  </tbody>\n",
       "</table>\n",
       "</div>"
      ],
      "text/plain": [
       "   Id  OverallQual  YearBuilt  YearRemodAdd  ExterQual  TotalBsmtSF  1stFlrSF  \\\n",
       "0   1            7       2003          2003          2          856       856   \n",
       "1   2            6       1976          1976          3         1262      1262   \n",
       "\n",
       "   GrLivArea  FullBath  TotRmsAbvGrd  GarageCars  GarageArea  SalePrice  \n",
       "0       1710         2             8           2         548     208500  \n",
       "1       1262         2             6           2         460     181500  "
      ]
     },
     "execution_count": 20,
     "metadata": {},
     "output_type": "execute_result"
    }
   ],
   "source": [
    "drop_corr(kept)\n",
    "kept.head(2)"
   ]
  },
  {
   "cell_type": "code",
   "execution_count": 21,
   "metadata": {},
   "outputs": [
    {
     "data": {
      "text/plain": [
       "Index(['Id', 'OverallQual', 'YearBuilt', 'YearRemodAdd', 'ExterQual',\n",
       "       'TotalBsmtSF', '1stFlrSF', 'GrLivArea', 'FullBath', 'TotRmsAbvGrd',\n",
       "       'GarageCars', 'GarageArea', 'SalePrice'],\n",
       "      dtype='object')"
      ]
     },
     "execution_count": 21,
     "metadata": {},
     "output_type": "execute_result"
    }
   ],
   "source": [
    "# select the columns that will be used for the prediction\n",
    "get_columns = kept.columns\n",
    "get_columns"
   ]
  },
  {
   "cell_type": "code",
   "execution_count": 22,
   "metadata": {},
   "outputs": [
    {
     "data": {
      "text/html": [
       "<div>\n",
       "<style scoped>\n",
       "    .dataframe tbody tr th:only-of-type {\n",
       "        vertical-align: middle;\n",
       "    }\n",
       "\n",
       "    .dataframe tbody tr th {\n",
       "        vertical-align: top;\n",
       "    }\n",
       "\n",
       "    .dataframe thead th {\n",
       "        text-align: right;\n",
       "    }\n",
       "</style>\n",
       "<table border=\"1\" class=\"dataframe\">\n",
       "  <thead>\n",
       "    <tr style=\"text-align: right;\">\n",
       "      <th></th>\n",
       "      <th>Id</th>\n",
       "      <th>OverallQual</th>\n",
       "      <th>YearBuilt</th>\n",
       "      <th>YearRemodAdd</th>\n",
       "      <th>ExterQual</th>\n",
       "      <th>TotalBsmtSF</th>\n",
       "      <th>1stFlrSF</th>\n",
       "      <th>GrLivArea</th>\n",
       "      <th>FullBath</th>\n",
       "      <th>TotRmsAbvGrd</th>\n",
       "      <th>GarageCars</th>\n",
       "      <th>GarageArea</th>\n",
       "      <th>SalePrice</th>\n",
       "    </tr>\n",
       "  </thead>\n",
       "  <tbody>\n",
       "    <tr>\n",
       "      <th>0</th>\n",
       "      <td>1</td>\n",
       "      <td>7</td>\n",
       "      <td>2003</td>\n",
       "      <td>2003</td>\n",
       "      <td>Gd</td>\n",
       "      <td>856</td>\n",
       "      <td>856</td>\n",
       "      <td>1710</td>\n",
       "      <td>2</td>\n",
       "      <td>8</td>\n",
       "      <td>2</td>\n",
       "      <td>548</td>\n",
       "      <td>208500</td>\n",
       "    </tr>\n",
       "    <tr>\n",
       "      <th>1</th>\n",
       "      <td>2</td>\n",
       "      <td>6</td>\n",
       "      <td>1976</td>\n",
       "      <td>1976</td>\n",
       "      <td>TA</td>\n",
       "      <td>1262</td>\n",
       "      <td>1262</td>\n",
       "      <td>1262</td>\n",
       "      <td>2</td>\n",
       "      <td>6</td>\n",
       "      <td>2</td>\n",
       "      <td>460</td>\n",
       "      <td>181500</td>\n",
       "    </tr>\n",
       "  </tbody>\n",
       "</table>\n",
       "</div>"
      ],
      "text/plain": [
       "   Id  OverallQual  YearBuilt  YearRemodAdd ExterQual  TotalBsmtSF  1stFlrSF  \\\n",
       "0   1            7       2003          2003        Gd          856       856   \n",
       "1   2            6       1976          1976        TA         1262      1262   \n",
       "\n",
       "   GrLivArea  FullBath  TotRmsAbvGrd  GarageCars  GarageArea  SalePrice  \n",
       "0       1710         2             8           2         548     208500  \n",
       "1       1262         2             6           2         460     181500  "
      ]
     },
     "execution_count": 22,
     "metadata": {},
     "output_type": "execute_result"
    }
   ],
   "source": [
    "# select the columns that will be used for the prediction\n",
    "labels = train[get_columns]\n",
    "labels.head(2)"
   ]
  },
  {
   "cell_type": "code",
   "execution_count": 23,
   "metadata": {},
   "outputs": [
    {
     "name": "stderr",
     "output_type": "stream",
     "text": [
      "/home/todd/anaconda3/lib/python3.7/site-packages/ipykernel_launcher.py:3: SettingWithCopyWarning: \n",
      "A value is trying to be set on a copy of a slice from a DataFrame.\n",
      "Try using .loc[row_indexer,col_indexer] = value instead\n",
      "\n",
      "See the caveats in the documentation: https://pandas.pydata.org/pandas-docs/stable/user_guide/indexing.html#returning-a-view-versus-a-copy\n",
      "  This is separate from the ipykernel package so we can avoid doing imports until\n",
      "/home/todd/anaconda3/lib/python3.7/site-packages/ipykernel_launcher.py:4: SettingWithCopyWarning: \n",
      "A value is trying to be set on a copy of a slice from a DataFrame.\n",
      "Try using .loc[row_indexer,col_indexer] = value instead\n",
      "\n",
      "See the caveats in the documentation: https://pandas.pydata.org/pandas-docs/stable/user_guide/indexing.html#returning-a-view-versus-a-copy\n",
      "  after removing the cwd from sys.path.\n",
      "/home/todd/anaconda3/lib/python3.7/site-packages/ipykernel_launcher.py:5: SettingWithCopyWarning: \n",
      "A value is trying to be set on a copy of a slice from a DataFrame.\n",
      "Try using .loc[row_indexer,col_indexer] = value instead\n",
      "\n",
      "See the caveats in the documentation: https://pandas.pydata.org/pandas-docs/stable/user_guide/indexing.html#returning-a-view-versus-a-copy\n",
      "  \"\"\"\n",
      "/home/todd/anaconda3/lib/python3.7/site-packages/ipykernel_launcher.py:6: SettingWithCopyWarning: \n",
      "A value is trying to be set on a copy of a slice from a DataFrame.\n",
      "Try using .loc[row_indexer,col_indexer] = value instead\n",
      "\n",
      "See the caveats in the documentation: https://pandas.pydata.org/pandas-docs/stable/user_guide/indexing.html#returning-a-view-versus-a-copy\n",
      "  \n",
      "/home/todd/anaconda3/lib/python3.7/site-packages/ipykernel_launcher.py:7: SettingWithCopyWarning: \n",
      "A value is trying to be set on a copy of a slice from a DataFrame.\n",
      "Try using .loc[row_indexer,col_indexer] = value instead\n",
      "\n",
      "See the caveats in the documentation: https://pandas.pydata.org/pandas-docs/stable/user_guide/indexing.html#returning-a-view-versus-a-copy\n",
      "  import sys\n"
     ]
    },
    {
     "data": {
      "text/html": [
       "<div>\n",
       "<style scoped>\n",
       "    .dataframe tbody tr th:only-of-type {\n",
       "        vertical-align: middle;\n",
       "    }\n",
       "\n",
       "    .dataframe tbody tr th {\n",
       "        vertical-align: top;\n",
       "    }\n",
       "\n",
       "    .dataframe thead th {\n",
       "        text-align: right;\n",
       "    }\n",
       "</style>\n",
       "<table border=\"1\" class=\"dataframe\">\n",
       "  <thead>\n",
       "    <tr style=\"text-align: right;\">\n",
       "      <th></th>\n",
       "      <th>Id</th>\n",
       "      <th>OverallQual</th>\n",
       "      <th>YearBuilt</th>\n",
       "      <th>YearRemodAdd</th>\n",
       "      <th>ExterQual</th>\n",
       "      <th>TotalBsmtSF</th>\n",
       "      <th>1stFlrSF</th>\n",
       "      <th>GrLivArea</th>\n",
       "      <th>FullBath</th>\n",
       "      <th>TotRmsAbvGrd</th>\n",
       "      <th>GarageCars</th>\n",
       "      <th>GarageArea</th>\n",
       "      <th>SalePrice</th>\n",
       "      <th>Neighborhood</th>\n",
       "      <th>HouseStyle</th>\n",
       "      <th>KitchenQual</th>\n",
       "      <th>BldgType</th>\n",
       "      <th>OverallCond</th>\n",
       "    </tr>\n",
       "  </thead>\n",
       "  <tbody>\n",
       "    <tr>\n",
       "      <th>0</th>\n",
       "      <td>1</td>\n",
       "      <td>7</td>\n",
       "      <td>2003</td>\n",
       "      <td>2003</td>\n",
       "      <td>Gd</td>\n",
       "      <td>856</td>\n",
       "      <td>856</td>\n",
       "      <td>1710</td>\n",
       "      <td>2</td>\n",
       "      <td>8</td>\n",
       "      <td>2</td>\n",
       "      <td>548</td>\n",
       "      <td>208500</td>\n",
       "      <td>CollgCr</td>\n",
       "      <td>2Story</td>\n",
       "      <td>Gd</td>\n",
       "      <td>1Fam</td>\n",
       "      <td>5</td>\n",
       "    </tr>\n",
       "  </tbody>\n",
       "</table>\n",
       "</div>"
      ],
      "text/plain": [
       "   Id  OverallQual  YearBuilt  YearRemodAdd ExterQual  TotalBsmtSF  1stFlrSF  \\\n",
       "0   1            7       2003          2003        Gd          856       856   \n",
       "\n",
       "   GrLivArea  FullBath  TotRmsAbvGrd  GarageCars  GarageArea  SalePrice  \\\n",
       "0       1710         2             8           2         548     208500   \n",
       "\n",
       "  Neighborhood HouseStyle KitchenQual BldgType  OverallCond  \n",
       "0      CollgCr     2Story          Gd     1Fam            5  "
      ]
     },
     "execution_count": 23,
     "metadata": {},
     "output_type": "execute_result"
    }
   ],
   "source": [
    "# Return the popped columns to the labels dataframe.\n",
    "#labels = labels.copy()\n",
    "labels['Neighborhood'] = hood\n",
    "labels['HouseStyle'] = style\n",
    "labels['KitchenQual'] = kitchen\n",
    "labels['BldgType'] = building\n",
    "labels['OverallCond'] = overall\n",
    "labels.head(1)"
   ]
  },
  {
   "cell_type": "code",
   "execution_count": 24,
   "metadata": {},
   "outputs": [
    {
     "data": {
      "text/plain": [
       "Index(['Id', 'OverallQual', 'YearBuilt', 'YearRemodAdd', 'ExterQual',\n",
       "       'TotalBsmtSF', '1stFlrSF', 'GrLivArea', 'FullBath', 'TotRmsAbvGrd',\n",
       "       'GarageCars', 'GarageArea', 'SalePrice', 'Neighborhood', 'HouseStyle',\n",
       "       'KitchenQual', 'BldgType', 'OverallCond'],\n",
       "      dtype='object')"
      ]
     },
     "execution_count": 24,
     "metadata": {},
     "output_type": "execute_result"
    }
   ],
   "source": [
    "labels.columns"
   ]
  },
  {
   "cell_type": "code",
   "execution_count": 25,
   "metadata": {},
   "outputs": [
    {
     "name": "stdout",
     "output_type": "stream",
     "text": [
      "['Gd' 'TA' 'Ex' 'Fa']\n",
      "['CollgCr' 'Veenker' 'Crawfor' 'NoRidge' 'Mitchel' 'Somerst' 'NWAmes'\n",
      " 'OldTown' 'BrkSide' 'Sawyer' 'NridgHt' 'NAmes' 'SawyerW' 'IDOTRR'\n",
      " 'MeadowV' 'Edwards' 'Timber' 'Gilbert' 'StoneBr' 'ClearCr' 'NPkVill'\n",
      " 'Blmngtn' 'BrDale' 'SWISU' 'Blueste']\n",
      "['2Story' '1Story' '1.5Fin' '1.5Unf' 'SFoyer' 'SLvl' '2.5Unf' '2.5Fin']\n",
      "['Gd' 'TA' 'Ex' 'Fa']\n",
      "['1Fam' '2fmCon' 'Duplex' 'TwnhsE' 'Twnhs']\n"
     ]
    }
   ],
   "source": [
    "#list the unique values of each categorical column\n",
    "def get_unique(frame):\n",
    "    columns = frame.select_dtypes(include=['object']).columns\n",
    "    i = 0\n",
    "    for column in columns:\n",
    "        print(frame[columns[i]].unique())\n",
    "        i = i + 1\n",
    "get_unique(labels)"
   ]
  },
  {
   "cell_type": "markdown",
   "metadata": {},
   "source": [
    "---\n",
    "### Ordinal Encoding\n",
    "---\n"
   ]
  },
  {
   "cell_type": "code",
   "execution_count": 26,
   "metadata": {},
   "outputs": [],
   "source": [
    "ord1 = [{'col': 'ExterQual', 'mapping':{'Fa': 1, 'TA': 2, 'Gd': 3, 'Ex': 4}}]\n",
    "ord2 = [{'col': 'KitchenQual', 'mapping':{'Fa': 1, 'TA': 2, 'Gd': 3, 'Ex': 4}}]\n",
    "ord3 = [{'col': 'BldgType', 'mapping':{'Twnhs': 1, 'TwnhsE': 2, 'Duplex': 3, '2fmCon': 4, '1Fam': 5}}]\n",
    "ord4 = [{'col': 'HouseStyle', 'mapping':{'SFoyer': 1, 'SLvl': 2, '1.5Unf': 3, '1.5Fin': 4,\n",
    "                                    '1Story': 5, '2Story': 6, '2.5Unf': 7, '2.5Fin': 8}}]"
   ]
  },
  {
   "cell_type": "code",
   "execution_count": 27,
   "metadata": {},
   "outputs": [],
   "source": [
    "def ordinal_encode(frame,col):\n",
    "    encoder = ce.OrdinalEncoder(mapping = col, return_df = True)\n",
    "    frame = encoder.fit_transform(frame)\n",
    "    return frame"
   ]
  },
  {
   "cell_type": "markdown",
   "metadata": {},
   "source": [
    "Now let's organize the neighborhood data to see which ones have the most expensive homes"
   ]
  },
  {
   "cell_type": "code",
   "execution_count": 28,
   "metadata": {},
   "outputs": [],
   "source": [
    "a = pd.DataFrame(np.array([labels.groupby(['Neighborhood'])['SalePrice'].aggregate(np.max).sort_values()])).T\n",
    "b = labels.groupby(['Neighborhood'])['SalePrice'].aggregate(np.max).sort_values()\n",
    "c = pd.DataFrame(np.array([b.index])).T\n",
    "d = a\n",
    "d[1] = c\n",
    "x = d[1]\n",
    "y = d[0]"
   ]
  },
  {
   "cell_type": "code",
   "execution_count": 29,
   "metadata": {},
   "outputs": [
    {
     "data": {
      "text/plain": [
       "<BarContainer object of 25 artists>"
      ]
     },
     "execution_count": 29,
     "metadata": {},
     "output_type": "execute_result"
    },
    {
     "data": {
      "image/png": "[encoded data removed]",
      "text/plain": [
       "<Figure size 1584x360 with 1 Axes>"
      ]
     },
     "metadata": {
      "needs_background": "light"
     },
     "output_type": "display_data"
    }
   ],
   "source": [
    "# plot the neighbourhoods\n",
    "\n",
    "plt.figure(figsize=[22.0,5.0])\n",
    "plt.bar(x,y, color = 'darkorchid')"
   ]
  },
  {
   "cell_type": "code",
   "execution_count": 30,
   "metadata": {},
   "outputs": [],
   "source": [
    "ord5 = [{'col': 'Neighborhood', 'mapping':{'BrDale': 1, 'Blueste': 2, 'MeadowV': 3, 'NPkVill': 4,\n",
    "                                           'IDOTRR': 5, 'Sawyer': 6, 'SWISU': 7, 'BrkSide': 8,\n",
    "                                           'Blmngtn': 9, 'Mitchel': 10, 'NWAmes': 11, 'SawyerW': 12,\n",
    "                                           'Edwards': 13, 'ClearCr': 14, 'NAmes': 15, 'Gilbert': 16,\n",
    "                                           'Timber': 17, 'Veenker': 18, 'Crawfor': 19, 'Somerst': 20,\n",
    "                                           'CollgCr': 21, 'OldTown': 22, 'StoneBr': 23, 'NridgHt': 24,\n",
    "                                           'NoRidge': 25}}]"
   ]
  },
  {
   "cell_type": "code",
   "execution_count": 31,
   "metadata": {},
   "outputs": [
    {
     "data": {
      "text/html": [
       "<div>\n",
       "<style scoped>\n",
       "    .dataframe tbody tr th:only-of-type {\n",
       "        vertical-align: middle;\n",
       "    }\n",
       "\n",
       "    .dataframe tbody tr th {\n",
       "        vertical-align: top;\n",
       "    }\n",
       "\n",
       "    .dataframe thead th {\n",
       "        text-align: right;\n",
       "    }\n",
       "</style>\n",
       "<table border=\"1\" class=\"dataframe\">\n",
       "  <thead>\n",
       "    <tr style=\"text-align: right;\">\n",
       "      <th></th>\n",
       "      <th>Id</th>\n",
       "      <th>OverallQual</th>\n",
       "      <th>YearBuilt</th>\n",
       "      <th>YearRemodAdd</th>\n",
       "      <th>ExterQual</th>\n",
       "      <th>TotalBsmtSF</th>\n",
       "      <th>1stFlrSF</th>\n",
       "      <th>GrLivArea</th>\n",
       "      <th>FullBath</th>\n",
       "      <th>TotRmsAbvGrd</th>\n",
       "      <th>GarageCars</th>\n",
       "      <th>GarageArea</th>\n",
       "      <th>SalePrice</th>\n",
       "      <th>Neighborhood</th>\n",
       "      <th>HouseStyle</th>\n",
       "      <th>KitchenQual</th>\n",
       "      <th>BldgType</th>\n",
       "      <th>OverallCond</th>\n",
       "    </tr>\n",
       "  </thead>\n",
       "  <tbody>\n",
       "    <tr>\n",
       "      <th>0</th>\n",
       "      <td>1</td>\n",
       "      <td>7</td>\n",
       "      <td>2003</td>\n",
       "      <td>2003</td>\n",
       "      <td>3</td>\n",
       "      <td>856</td>\n",
       "      <td>856</td>\n",
       "      <td>1710</td>\n",
       "      <td>2</td>\n",
       "      <td>8</td>\n",
       "      <td>2</td>\n",
       "      <td>548</td>\n",
       "      <td>208500</td>\n",
       "      <td>21</td>\n",
       "      <td>6</td>\n",
       "      <td>3</td>\n",
       "      <td>5</td>\n",
       "      <td>5</td>\n",
       "    </tr>\n",
       "    <tr>\n",
       "      <th>1</th>\n",
       "      <td>2</td>\n",
       "      <td>6</td>\n",
       "      <td>1976</td>\n",
       "      <td>1976</td>\n",
       "      <td>2</td>\n",
       "      <td>1262</td>\n",
       "      <td>1262</td>\n",
       "      <td>1262</td>\n",
       "      <td>2</td>\n",
       "      <td>6</td>\n",
       "      <td>2</td>\n",
       "      <td>460</td>\n",
       "      <td>181500</td>\n",
       "      <td>18</td>\n",
       "      <td>5</td>\n",
       "      <td>2</td>\n",
       "      <td>5</td>\n",
       "      <td>8</td>\n",
       "    </tr>\n",
       "  </tbody>\n",
       "</table>\n",
       "</div>"
      ],
      "text/plain": [
       "   Id  OverallQual  YearBuilt  YearRemodAdd  ExterQual  TotalBsmtSF  1stFlrSF  \\\n",
       "0   1            7       2003          2003          3          856       856   \n",
       "1   2            6       1976          1976          2         1262      1262   \n",
       "\n",
       "   GrLivArea  FullBath  TotRmsAbvGrd  GarageCars  GarageArea  SalePrice  \\\n",
       "0       1710         2             8           2         548     208500   \n",
       "1       1262         2             6           2         460     181500   \n",
       "\n",
       "   Neighborhood  HouseStyle  KitchenQual  BldgType  OverallCond  \n",
       "0            21           6            3         5            5  \n",
       "1            18           5            2         5            8  "
      ]
     },
     "execution_count": 31,
     "metadata": {},
     "output_type": "execute_result"
    }
   ],
   "source": [
    "labels = ordinal_encode(labels,ord1)\n",
    "labels = ordinal_encode(labels,ord2)\n",
    "labels = ordinal_encode(labels,ord3)\n",
    "labels = ordinal_encode(labels,ord4)\n",
    "labels = ordinal_encode(labels,ord5)\n",
    "labels.head(2)"
   ]
  },
  {
   "cell_type": "code",
   "execution_count": 32,
   "metadata": {},
   "outputs": [],
   "source": [
    "# Remove id column so it doesn't interfere with training.\n",
    "id_num = labels.pop('Id')"
   ]
  },
  {
   "cell_type": "code",
   "execution_count": 33,
   "metadata": {},
   "outputs": [
    {
     "data": {
      "text/html": [
       "<div>\n",
       "<style scoped>\n",
       "    .dataframe tbody tr th:only-of-type {\n",
       "        vertical-align: middle;\n",
       "    }\n",
       "\n",
       "    .dataframe tbody tr th {\n",
       "        vertical-align: top;\n",
       "    }\n",
       "\n",
       "    .dataframe thead th {\n",
       "        text-align: right;\n",
       "    }\n",
       "</style>\n",
       "<table border=\"1\" class=\"dataframe\">\n",
       "  <thead>\n",
       "    <tr style=\"text-align: right;\">\n",
       "      <th></th>\n",
       "      <th>OverallQual</th>\n",
       "      <th>YearBuilt</th>\n",
       "      <th>YearRemodAdd</th>\n",
       "      <th>ExterQual</th>\n",
       "      <th>TotalBsmtSF</th>\n",
       "      <th>1stFlrSF</th>\n",
       "      <th>GrLivArea</th>\n",
       "      <th>FullBath</th>\n",
       "      <th>TotRmsAbvGrd</th>\n",
       "      <th>GarageCars</th>\n",
       "      <th>GarageArea</th>\n",
       "      <th>SalePrice</th>\n",
       "      <th>Neighborhood</th>\n",
       "      <th>HouseStyle</th>\n",
       "      <th>KitchenQual</th>\n",
       "      <th>BldgType</th>\n",
       "      <th>OverallCond</th>\n",
       "    </tr>\n",
       "  </thead>\n",
       "  <tbody>\n",
       "    <tr>\n",
       "      <th>OverallQual</th>\n",
       "      <td>1.000000</td>\n",
       "      <td>0.572323</td>\n",
       "      <td>0.550684</td>\n",
       "      <td>0.726278</td>\n",
       "      <td>0.537808</td>\n",
       "      <td>0.476224</td>\n",
       "      <td>0.593007</td>\n",
       "      <td>0.550600</td>\n",
       "      <td>0.427452</td>\n",
       "      <td>0.600671</td>\n",
       "      <td>0.562022</td>\n",
       "      <td>0.790982</td>\n",
       "      <td>0.470148</td>\n",
       "      <td>0.235676</td>\n",
       "      <td>0.673331</td>\n",
       "      <td>-0.022988</td>\n",
       "      <td>-0.091932</td>\n",
       "    </tr>\n",
       "    <tr>\n",
       "      <th>YearBuilt</th>\n",
       "      <td>0.572323</td>\n",
       "      <td>1.000000</td>\n",
       "      <td>0.592855</td>\n",
       "      <td>0.598160</td>\n",
       "      <td>0.391452</td>\n",
       "      <td>0.281986</td>\n",
       "      <td>0.199010</td>\n",
       "      <td>0.468271</td>\n",
       "      <td>0.095589</td>\n",
       "      <td>0.537850</td>\n",
       "      <td>0.478954</td>\n",
       "      <td>0.522897</td>\n",
       "      <td>0.290402</td>\n",
       "      <td>0.116173</td>\n",
       "      <td>0.530165</td>\n",
       "      <td>-0.197934</td>\n",
       "      <td>-0.375983</td>\n",
       "    </tr>\n",
       "    <tr>\n",
       "      <th>YearRemodAdd</th>\n",
       "      <td>0.550684</td>\n",
       "      <td>0.592855</td>\n",
       "      <td>1.000000</td>\n",
       "      <td>0.587318</td>\n",
       "      <td>0.291066</td>\n",
       "      <td>0.240379</td>\n",
       "      <td>0.287389</td>\n",
       "      <td>0.439046</td>\n",
       "      <td>0.191740</td>\n",
       "      <td>0.420622</td>\n",
       "      <td>0.371600</td>\n",
       "      <td>0.507101</td>\n",
       "      <td>0.357268</td>\n",
       "      <td>0.189131</td>\n",
       "      <td>0.625316</td>\n",
       "      <td>-0.082713</td>\n",
       "      <td>0.073741</td>\n",
       "    </tr>\n",
       "    <tr>\n",
       "      <th>ExterQual</th>\n",
       "      <td>0.726278</td>\n",
       "      <td>0.598160</td>\n",
       "      <td>0.587318</td>\n",
       "      <td>1.000000</td>\n",
       "      <td>0.470580</td>\n",
       "      <td>0.397835</td>\n",
       "      <td>0.435986</td>\n",
       "      <td>0.483949</td>\n",
       "      <td>0.297903</td>\n",
       "      <td>0.526390</td>\n",
       "      <td>0.495778</td>\n",
       "      <td>0.682639</td>\n",
       "      <td>0.480711</td>\n",
       "      <td>0.214327</td>\n",
       "      <td>0.716122</td>\n",
       "      <td>-0.074940</td>\n",
       "      <td>-0.138942</td>\n",
       "    </tr>\n",
       "    <tr>\n",
       "      <th>TotalBsmtSF</th>\n",
       "      <td>0.537808</td>\n",
       "      <td>0.391452</td>\n",
       "      <td>0.291066</td>\n",
       "      <td>0.470580</td>\n",
       "      <td>1.000000</td>\n",
       "      <td>0.819530</td>\n",
       "      <td>0.454868</td>\n",
       "      <td>0.323722</td>\n",
       "      <td>0.285573</td>\n",
       "      <td>0.434585</td>\n",
       "      <td>0.486665</td>\n",
       "      <td>0.613581</td>\n",
       "      <td>0.291381</td>\n",
       "      <td>0.053473</td>\n",
       "      <td>0.432630</td>\n",
       "      <td>0.081380</td>\n",
       "      <td>-0.171098</td>\n",
       "    </tr>\n",
       "    <tr>\n",
       "      <th>1stFlrSF</th>\n",
       "      <td>0.476224</td>\n",
       "      <td>0.281986</td>\n",
       "      <td>0.240379</td>\n",
       "      <td>0.397835</td>\n",
       "      <td>0.819530</td>\n",
       "      <td>1.000000</td>\n",
       "      <td>0.566024</td>\n",
       "      <td>0.380637</td>\n",
       "      <td>0.409516</td>\n",
       "      <td>0.439317</td>\n",
       "      <td>0.489782</td>\n",
       "      <td>0.605852</td>\n",
       "      <td>0.254220</td>\n",
       "      <td>-0.012469</td>\n",
       "      <td>0.387027</td>\n",
       "      <td>0.106377</td>\n",
       "      <td>-0.144203</td>\n",
       "    </tr>\n",
       "    <tr>\n",
       "      <th>GrLivArea</th>\n",
       "      <td>0.593007</td>\n",
       "      <td>0.199010</td>\n",
       "      <td>0.287389</td>\n",
       "      <td>0.435986</td>\n",
       "      <td>0.454868</td>\n",
       "      <td>0.566024</td>\n",
       "      <td>1.000000</td>\n",
       "      <td>0.630012</td>\n",
       "      <td>0.825489</td>\n",
       "      <td>0.467247</td>\n",
       "      <td>0.468997</td>\n",
       "      <td>0.708624</td>\n",
       "      <td>0.318742</td>\n",
       "      <td>0.365447</td>\n",
       "      <td>0.420563</td>\n",
       "      <td>0.126722</td>\n",
       "      <td>-0.079686</td>\n",
       "    </tr>\n",
       "    <tr>\n",
       "      <th>FullBath</th>\n",
       "      <td>0.550600</td>\n",
       "      <td>0.468271</td>\n",
       "      <td>0.439046</td>\n",
       "      <td>0.483949</td>\n",
       "      <td>0.323722</td>\n",
       "      <td>0.380637</td>\n",
       "      <td>0.630012</td>\n",
       "      <td>1.000000</td>\n",
       "      <td>0.554784</td>\n",
       "      <td>0.469672</td>\n",
       "      <td>0.405656</td>\n",
       "      <td>0.560664</td>\n",
       "      <td>0.310841</td>\n",
       "      <td>0.294226</td>\n",
       "      <td>0.434648</td>\n",
       "      <td>-0.070202</td>\n",
       "      <td>-0.194149</td>\n",
       "    </tr>\n",
       "    <tr>\n",
       "      <th>TotRmsAbvGrd</th>\n",
       "      <td>0.427452</td>\n",
       "      <td>0.095589</td>\n",
       "      <td>0.191740</td>\n",
       "      <td>0.297903</td>\n",
       "      <td>0.285573</td>\n",
       "      <td>0.409516</td>\n",
       "      <td>0.825489</td>\n",
       "      <td>0.554784</td>\n",
       "      <td>1.000000</td>\n",
       "      <td>0.362289</td>\n",
       "      <td>0.337822</td>\n",
       "      <td>0.533723</td>\n",
       "      <td>0.220432</td>\n",
       "      <td>0.337493</td>\n",
       "      <td>0.287279</td>\n",
       "      <td>0.181233</td>\n",
       "      <td>-0.057583</td>\n",
       "    </tr>\n",
       "    <tr>\n",
       "      <th>GarageCars</th>\n",
       "      <td>0.600671</td>\n",
       "      <td>0.537850</td>\n",
       "      <td>0.420622</td>\n",
       "      <td>0.526390</td>\n",
       "      <td>0.434585</td>\n",
       "      <td>0.439317</td>\n",
       "      <td>0.467247</td>\n",
       "      <td>0.469672</td>\n",
       "      <td>0.362289</td>\n",
       "      <td>1.000000</td>\n",
       "      <td>0.882475</td>\n",
       "      <td>0.640409</td>\n",
       "      <td>0.379763</td>\n",
       "      <td>0.173928</td>\n",
       "      <td>0.509810</td>\n",
       "      <td>0.020490</td>\n",
       "      <td>-0.185758</td>\n",
       "    </tr>\n",
       "    <tr>\n",
       "      <th>GarageArea</th>\n",
       "      <td>0.562022</td>\n",
       "      <td>0.478954</td>\n",
       "      <td>0.371600</td>\n",
       "      <td>0.495778</td>\n",
       "      <td>0.486665</td>\n",
       "      <td>0.489782</td>\n",
       "      <td>0.468997</td>\n",
       "      <td>0.405656</td>\n",
       "      <td>0.337822</td>\n",
       "      <td>0.882475</td>\n",
       "      <td>1.000000</td>\n",
       "      <td>0.623431</td>\n",
       "      <td>0.374785</td>\n",
       "      <td>0.133685</td>\n",
       "      <td>0.489606</td>\n",
       "      <td>0.084782</td>\n",
       "      <td>-0.151521</td>\n",
       "    </tr>\n",
       "    <tr>\n",
       "      <th>SalePrice</th>\n",
       "      <td>0.790982</td>\n",
       "      <td>0.522897</td>\n",
       "      <td>0.507101</td>\n",
       "      <td>0.682639</td>\n",
       "      <td>0.613581</td>\n",
       "      <td>0.605852</td>\n",
       "      <td>0.708624</td>\n",
       "      <td>0.560664</td>\n",
       "      <td>0.533723</td>\n",
       "      <td>0.640409</td>\n",
       "      <td>0.623431</td>\n",
       "      <td>1.000000</td>\n",
       "      <td>0.479567</td>\n",
       "      <td>0.229599</td>\n",
       "      <td>0.659600</td>\n",
       "      <td>0.112611</td>\n",
       "      <td>-0.077856</td>\n",
       "    </tr>\n",
       "    <tr>\n",
       "      <th>Neighborhood</th>\n",
       "      <td>0.470148</td>\n",
       "      <td>0.290402</td>\n",
       "      <td>0.357268</td>\n",
       "      <td>0.480711</td>\n",
       "      <td>0.291381</td>\n",
       "      <td>0.254220</td>\n",
       "      <td>0.318742</td>\n",
       "      <td>0.310841</td>\n",
       "      <td>0.220432</td>\n",
       "      <td>0.379763</td>\n",
       "      <td>0.374785</td>\n",
       "      <td>0.479567</td>\n",
       "      <td>1.000000</td>\n",
       "      <td>0.200636</td>\n",
       "      <td>0.441256</td>\n",
       "      <td>0.134784</td>\n",
       "      <td>-0.075694</td>\n",
       "    </tr>\n",
       "    <tr>\n",
       "      <th>HouseStyle</th>\n",
       "      <td>0.235676</td>\n",
       "      <td>0.116173</td>\n",
       "      <td>0.189131</td>\n",
       "      <td>0.214327</td>\n",
       "      <td>0.053473</td>\n",
       "      <td>-0.012469</td>\n",
       "      <td>0.365447</td>\n",
       "      <td>0.294226</td>\n",
       "      <td>0.337493</td>\n",
       "      <td>0.173928</td>\n",
       "      <td>0.133685</td>\n",
       "      <td>0.229599</td>\n",
       "      <td>0.200636</td>\n",
       "      <td>1.000000</td>\n",
       "      <td>0.168394</td>\n",
       "      <td>-0.017838</td>\n",
       "      <td>-0.084471</td>\n",
       "    </tr>\n",
       "    <tr>\n",
       "      <th>KitchenQual</th>\n",
       "      <td>0.673331</td>\n",
       "      <td>0.530165</td>\n",
       "      <td>0.625316</td>\n",
       "      <td>0.716122</td>\n",
       "      <td>0.432630</td>\n",
       "      <td>0.387027</td>\n",
       "      <td>0.420563</td>\n",
       "      <td>0.434648</td>\n",
       "      <td>0.287279</td>\n",
       "      <td>0.509810</td>\n",
       "      <td>0.489606</td>\n",
       "      <td>0.659600</td>\n",
       "      <td>0.441256</td>\n",
       "      <td>0.168394</td>\n",
       "      <td>1.000000</td>\n",
       "      <td>-0.028948</td>\n",
       "      <td>-0.026707</td>\n",
       "    </tr>\n",
       "    <tr>\n",
       "      <th>BldgType</th>\n",
       "      <td>-0.022988</td>\n",
       "      <td>-0.197934</td>\n",
       "      <td>-0.082713</td>\n",
       "      <td>-0.074940</td>\n",
       "      <td>0.081380</td>\n",
       "      <td>0.106377</td>\n",
       "      <td>0.126722</td>\n",
       "      <td>-0.070202</td>\n",
       "      <td>0.181233</td>\n",
       "      <td>0.020490</td>\n",
       "      <td>0.084782</td>\n",
       "      <td>0.112611</td>\n",
       "      <td>0.134784</td>\n",
       "      <td>-0.017838</td>\n",
       "      <td>-0.028948</td>\n",
       "      <td>1.000000</td>\n",
       "      <td>0.150158</td>\n",
       "    </tr>\n",
       "    <tr>\n",
       "      <th>OverallCond</th>\n",
       "      <td>-0.091932</td>\n",
       "      <td>-0.375983</td>\n",
       "      <td>0.073741</td>\n",
       "      <td>-0.138942</td>\n",
       "      <td>-0.171098</td>\n",
       "      <td>-0.144203</td>\n",
       "      <td>-0.079686</td>\n",
       "      <td>-0.194149</td>\n",
       "      <td>-0.057583</td>\n",
       "      <td>-0.185758</td>\n",
       "      <td>-0.151521</td>\n",
       "      <td>-0.077856</td>\n",
       "      <td>-0.075694</td>\n",
       "      <td>-0.084471</td>\n",
       "      <td>-0.026707</td>\n",
       "      <td>0.150158</td>\n",
       "      <td>1.000000</td>\n",
       "    </tr>\n",
       "  </tbody>\n",
       "</table>\n",
       "</div>"
      ],
      "text/plain": [
       "              OverallQual  YearBuilt  YearRemodAdd  ExterQual  TotalBsmtSF  \\\n",
       "OverallQual      1.000000   0.572323      0.550684   0.726278     0.537808   \n",
       "YearBuilt        0.572323   1.000000      0.592855   0.598160     0.391452   \n",
       "YearRemodAdd     0.550684   0.592855      1.000000   0.587318     0.291066   \n",
       "ExterQual        0.726278   0.598160      0.587318   1.000000     0.470580   \n",
       "TotalBsmtSF      0.537808   0.391452      0.291066   0.470580     1.000000   \n",
       "1stFlrSF         0.476224   0.281986      0.240379   0.397835     0.819530   \n",
       "GrLivArea        0.593007   0.199010      0.287389   0.435986     0.454868   \n",
       "FullBath         0.550600   0.468271      0.439046   0.483949     0.323722   \n",
       "TotRmsAbvGrd     0.427452   0.095589      0.191740   0.297903     0.285573   \n",
       "GarageCars       0.600671   0.537850      0.420622   0.526390     0.434585   \n",
       "GarageArea       0.562022   0.478954      0.371600   0.495778     0.486665   \n",
       "SalePrice        0.790982   0.522897      0.507101   0.682639     0.613581   \n",
       "Neighborhood     0.470148   0.290402      0.357268   0.480711     0.291381   \n",
       "HouseStyle       0.235676   0.116173      0.189131   0.214327     0.053473   \n",
       "KitchenQual      0.673331   0.530165      0.625316   0.716122     0.432630   \n",
       "BldgType        -0.022988  -0.197934     -0.082713  -0.074940     0.081380   \n",
       "OverallCond     -0.091932  -0.375983      0.073741  -0.138942    -0.171098   \n",
       "\n",
       "              1stFlrSF  GrLivArea  FullBath  TotRmsAbvGrd  GarageCars  \\\n",
       "OverallQual   0.476224   0.593007  0.550600      0.427452    0.600671   \n",
       "YearBuilt     0.281986   0.199010  0.468271      0.095589    0.537850   \n",
       "YearRemodAdd  0.240379   0.287389  0.439046      0.191740    0.420622   \n",
       "ExterQual     0.397835   0.435986  0.483949      0.297903    0.526390   \n",
       "TotalBsmtSF   0.819530   0.454868  0.323722      0.285573    0.434585   \n",
       "1stFlrSF      1.000000   0.566024  0.380637      0.409516    0.439317   \n",
       "GrLivArea     0.566024   1.000000  0.630012      0.825489    0.467247   \n",
       "FullBath      0.380637   0.630012  1.000000      0.554784    0.469672   \n",
       "TotRmsAbvGrd  0.409516   0.825489  0.554784      1.000000    0.362289   \n",
       "GarageCars    0.439317   0.467247  0.469672      0.362289    1.000000   \n",
       "GarageArea    0.489782   0.468997  0.405656      0.337822    0.882475   \n",
       "SalePrice     0.605852   0.708624  0.560664      0.533723    0.640409   \n",
       "Neighborhood  0.254220   0.318742  0.310841      0.220432    0.379763   \n",
       "HouseStyle   -0.012469   0.365447  0.294226      0.337493    0.173928   \n",
       "KitchenQual   0.387027   0.420563  0.434648      0.287279    0.509810   \n",
       "BldgType      0.106377   0.126722 -0.070202      0.181233    0.020490   \n",
       "OverallCond  -0.144203  -0.079686 -0.194149     -0.057583   -0.185758   \n",
       "\n",
       "              GarageArea  SalePrice  Neighborhood  HouseStyle  KitchenQual  \\\n",
       "OverallQual     0.562022   0.790982      0.470148    0.235676     0.673331   \n",
       "YearBuilt       0.478954   0.522897      0.290402    0.116173     0.530165   \n",
       "YearRemodAdd    0.371600   0.507101      0.357268    0.189131     0.625316   \n",
       "ExterQual       0.495778   0.682639      0.480711    0.214327     0.716122   \n",
       "TotalBsmtSF     0.486665   0.613581      0.291381    0.053473     0.432630   \n",
       "1stFlrSF        0.489782   0.605852      0.254220   -0.012469     0.387027   \n",
       "GrLivArea       0.468997   0.708624      0.318742    0.365447     0.420563   \n",
       "FullBath        0.405656   0.560664      0.310841    0.294226     0.434648   \n",
       "TotRmsAbvGrd    0.337822   0.533723      0.220432    0.337493     0.287279   \n",
       "GarageCars      0.882475   0.640409      0.379763    0.173928     0.509810   \n",
       "GarageArea      1.000000   0.623431      0.374785    0.133685     0.489606   \n",
       "SalePrice       0.623431   1.000000      0.479567    0.229599     0.659600   \n",
       "Neighborhood    0.374785   0.479567      1.000000    0.200636     0.441256   \n",
       "HouseStyle      0.133685   0.229599      0.200636    1.000000     0.168394   \n",
       "KitchenQual     0.489606   0.659600      0.441256    0.168394     1.000000   \n",
       "BldgType        0.084782   0.112611      0.134784   -0.017838    -0.028948   \n",
       "OverallCond    -0.151521  -0.077856     -0.075694   -0.084471    -0.026707   \n",
       "\n",
       "              BldgType  OverallCond  \n",
       "OverallQual  -0.022988    -0.091932  \n",
       "YearBuilt    -0.197934    -0.375983  \n",
       "YearRemodAdd -0.082713     0.073741  \n",
       "ExterQual    -0.074940    -0.138942  \n",
       "TotalBsmtSF   0.081380    -0.171098  \n",
       "1stFlrSF      0.106377    -0.144203  \n",
       "GrLivArea     0.126722    -0.079686  \n",
       "FullBath     -0.070202    -0.194149  \n",
       "TotRmsAbvGrd  0.181233    -0.057583  \n",
       "GarageCars    0.020490    -0.185758  \n",
       "GarageArea    0.084782    -0.151521  \n",
       "SalePrice     0.112611    -0.077856  \n",
       "Neighborhood  0.134784    -0.075694  \n",
       "HouseStyle   -0.017838    -0.084471  \n",
       "KitchenQual  -0.028948    -0.026707  \n",
       "BldgType      1.000000     0.150158  \n",
       "OverallCond   0.150158     1.000000  "
      ]
     },
     "execution_count": 33,
     "metadata": {},
     "output_type": "execute_result"
    }
   ],
   "source": [
    "# For reference, create a table displaying the correlation values of all kept columns, both to SalePrice and each other.\n",
    "labels.corr()"
   ]
  },
  {
   "cell_type": "markdown",
   "metadata": {},
   "source": [
    "---\n",
    "### Visualization\n",
    "---"
   ]
  },
  {
   "cell_type": "code",
   "execution_count": 34,
   "metadata": {},
   "outputs": [
    {
     "data": {
      "text/plain": [
       "count      1460.000000\n",
       "mean     180921.195890\n",
       "std       79442.502883\n",
       "min       34900.000000\n",
       "25%      129975.000000\n",
       "50%      163000.000000\n",
       "75%      214000.000000\n",
       "max      755000.000000\n",
       "Name: SalePrice, dtype: float64"
      ]
     },
     "execution_count": 34,
     "metadata": {},
     "output_type": "execute_result"
    }
   ],
   "source": [
    "#Summarize target value (SalePrice) using describe ()\n",
    "labels.SalePrice.describe()"
   ]
  },
  {
   "cell_type": "code",
   "execution_count": 35,
   "metadata": {},
   "outputs": [
    {
     "data": {
      "text/plain": [
       "<matplotlib.axes._subplots.AxesSubplot at 0x7fe60e609490>"
      ]
     },
     "execution_count": 35,
     "metadata": {},
     "output_type": "execute_result"
    },
    {
     "data": {
      "image/png": "[encoded data removed]",
      "text/plain": [
       "<Figure size 720x720 with 2 Axes>"
      ]
     },
     "metadata": {
      "needs_background": "light"
     },
     "output_type": "display_data"
    }
   ],
   "source": [
    "#Plotting a heatmap\n",
    "plt.subplots(figsize=(10,10))\n",
    "correlation_matrix = labels.corr().round(2)\n",
    "sns.heatmap(data=correlation_matrix, annot=True, cmap = 'coolwarm',vmin=0, vmax=1, linewidths=.5, square=True, alpha=0.75)"
   ]
  },
  {
   "cell_type": "code",
   "execution_count": 36,
   "metadata": {},
   "outputs": [],
   "source": [
    "#Plotting a pairplot\n",
    "#sns.pairplot(labels[['SalePrice','OverallQual', 'TotalBsmtSF', '1stFlrSF', 'GrLivArea', 'GarageCars', 'GarageArea', 'KitchenQual']], diag_kind='kde', hue = 'OverallQual', palette='coolwarm')"
   ]
  },
  {
   "cell_type": "code",
   "execution_count": 37,
   "metadata": {},
   "outputs": [
    {
     "data": {
      "text/plain": [
       "<matplotlib.axes._subplots.AxesSubplot at 0x7fe6044e3450>"
      ]
     },
     "execution_count": 37,
     "metadata": {},
     "output_type": "execute_result"
    },
    {
     "data": {
      "image/png": "[encoded data removed]",
      "text/plain": [
       "<Figure size 432x288 with 1 Axes>"
      ]
     },
     "metadata": {
      "needs_background": "light"
     },
     "output_type": "display_data"
    }
   ],
   "source": [
    "#Plot the distribution of SalePrice\n",
    "sns.distplot(labels.SalePrice,bins=100,color='chocolate')"
   ]
  },
  {
   "cell_type": "code",
   "execution_count": 38,
   "metadata": {},
   "outputs": [
    {
     "data": {
      "text/plain": [
       "<matplotlib.axes._subplots.AxesSubplot at 0x7fe602911a10>"
      ]
     },
     "execution_count": 38,
     "metadata": {},
     "output_type": "execute_result"
    },
    {
     "data": {
      "image/png": "[encoded data removed]",
      "text/plain": [
       "<Figure size 432x288 with 1 Axes>"
      ]
     },
     "metadata": {
      "needs_background": "light"
     },
     "output_type": "display_data"
    }
   ],
   "source": [
    "#Plot the histogram of numerical values (Hint: df.hist())\n",
    "labels.SalePrice.hist(bins=100,color='steelblue',alpha=0.5)"
   ]
  },
  {
   "cell_type": "code",
   "execution_count": 39,
   "metadata": {},
   "outputs": [
    {
     "data": {
      "text/html": [
       "<div>\n",
       "<style scoped>\n",
       "    .dataframe tbody tr th:only-of-type {\n",
       "        vertical-align: middle;\n",
       "    }\n",
       "\n",
       "    .dataframe tbody tr th {\n",
       "        vertical-align: top;\n",
       "    }\n",
       "\n",
       "    .dataframe thead th {\n",
       "        text-align: right;\n",
       "    }\n",
       "</style>\n",
       "<table border=\"1\" class=\"dataframe\">\n",
       "  <thead>\n",
       "    <tr style=\"text-align: right;\">\n",
       "      <th></th>\n",
       "      <th>count</th>\n",
       "      <th>mean</th>\n",
       "      <th>std</th>\n",
       "      <th>min</th>\n",
       "      <th>25%</th>\n",
       "      <th>50%</th>\n",
       "      <th>75%</th>\n",
       "      <th>max</th>\n",
       "    </tr>\n",
       "  </thead>\n",
       "  <tbody>\n",
       "    <tr>\n",
       "      <th>OverallQual</th>\n",
       "      <td>1460.0</td>\n",
       "      <td>6.099315</td>\n",
       "      <td>1.382997</td>\n",
       "      <td>1.0</td>\n",
       "      <td>5.00</td>\n",
       "      <td>6.0</td>\n",
       "      <td>7.00</td>\n",
       "      <td>10.0</td>\n",
       "    </tr>\n",
       "    <tr>\n",
       "      <th>YearBuilt</th>\n",
       "      <td>1460.0</td>\n",
       "      <td>1971.267808</td>\n",
       "      <td>30.202904</td>\n",
       "      <td>1872.0</td>\n",
       "      <td>1954.00</td>\n",
       "      <td>1973.0</td>\n",
       "      <td>2000.00</td>\n",
       "      <td>2010.0</td>\n",
       "    </tr>\n",
       "    <tr>\n",
       "      <th>YearRemodAdd</th>\n",
       "      <td>1460.0</td>\n",
       "      <td>1984.865753</td>\n",
       "      <td>20.645407</td>\n",
       "      <td>1950.0</td>\n",
       "      <td>1967.00</td>\n",
       "      <td>1994.0</td>\n",
       "      <td>2004.00</td>\n",
       "      <td>2010.0</td>\n",
       "    </tr>\n",
       "    <tr>\n",
       "      <th>ExterQual</th>\n",
       "      <td>1460.0</td>\n",
       "      <td>2.395890</td>\n",
       "      <td>0.574280</td>\n",
       "      <td>1.0</td>\n",
       "      <td>2.00</td>\n",
       "      <td>2.0</td>\n",
       "      <td>3.00</td>\n",
       "      <td>4.0</td>\n",
       "    </tr>\n",
       "    <tr>\n",
       "      <th>TotalBsmtSF</th>\n",
       "      <td>1460.0</td>\n",
       "      <td>1057.429452</td>\n",
       "      <td>438.705324</td>\n",
       "      <td>0.0</td>\n",
       "      <td>795.75</td>\n",
       "      <td>991.5</td>\n",
       "      <td>1298.25</td>\n",
       "      <td>6110.0</td>\n",
       "    </tr>\n",
       "    <tr>\n",
       "      <th>1stFlrSF</th>\n",
       "      <td>1460.0</td>\n",
       "      <td>1162.626712</td>\n",
       "      <td>386.587738</td>\n",
       "      <td>334.0</td>\n",
       "      <td>882.00</td>\n",
       "      <td>1087.0</td>\n",
       "      <td>1391.25</td>\n",
       "      <td>4692.0</td>\n",
       "    </tr>\n",
       "    <tr>\n",
       "      <th>GrLivArea</th>\n",
       "      <td>1460.0</td>\n",
       "      <td>1515.463699</td>\n",
       "      <td>525.480383</td>\n",
       "      <td>334.0</td>\n",
       "      <td>1129.50</td>\n",
       "      <td>1464.0</td>\n",
       "      <td>1776.75</td>\n",
       "      <td>5642.0</td>\n",
       "    </tr>\n",
       "    <tr>\n",
       "      <th>FullBath</th>\n",
       "      <td>1460.0</td>\n",
       "      <td>1.565068</td>\n",
       "      <td>0.550916</td>\n",
       "      <td>0.0</td>\n",
       "      <td>1.00</td>\n",
       "      <td>2.0</td>\n",
       "      <td>2.00</td>\n",
       "      <td>3.0</td>\n",
       "    </tr>\n",
       "    <tr>\n",
       "      <th>TotRmsAbvGrd</th>\n",
       "      <td>1460.0</td>\n",
       "      <td>6.517808</td>\n",
       "      <td>1.625393</td>\n",
       "      <td>2.0</td>\n",
       "      <td>5.00</td>\n",
       "      <td>6.0</td>\n",
       "      <td>7.00</td>\n",
       "      <td>14.0</td>\n",
       "    </tr>\n",
       "    <tr>\n",
       "      <th>GarageCars</th>\n",
       "      <td>1460.0</td>\n",
       "      <td>1.767123</td>\n",
       "      <td>0.747315</td>\n",
       "      <td>0.0</td>\n",
       "      <td>1.00</td>\n",
       "      <td>2.0</td>\n",
       "      <td>2.00</td>\n",
       "      <td>4.0</td>\n",
       "    </tr>\n",
       "    <tr>\n",
       "      <th>GarageArea</th>\n",
       "      <td>1460.0</td>\n",
       "      <td>472.980137</td>\n",
       "      <td>213.804841</td>\n",
       "      <td>0.0</td>\n",
       "      <td>334.50</td>\n",
       "      <td>480.0</td>\n",
       "      <td>576.00</td>\n",
       "      <td>1418.0</td>\n",
       "    </tr>\n",
       "    <tr>\n",
       "      <th>Neighborhood</th>\n",
       "      <td>1460.0</td>\n",
       "      <td>15.395205</td>\n",
       "      <td>5.915383</td>\n",
       "      <td>1.0</td>\n",
       "      <td>11.00</td>\n",
       "      <td>15.0</td>\n",
       "      <td>21.00</td>\n",
       "      <td>25.0</td>\n",
       "    </tr>\n",
       "    <tr>\n",
       "      <th>HouseStyle</th>\n",
       "      <td>1460.0</td>\n",
       "      <td>4.976712</td>\n",
       "      <td>1.155257</td>\n",
       "      <td>1.0</td>\n",
       "      <td>5.00</td>\n",
       "      <td>5.0</td>\n",
       "      <td>6.00</td>\n",
       "      <td>8.0</td>\n",
       "    </tr>\n",
       "    <tr>\n",
       "      <th>KitchenQual</th>\n",
       "      <td>1460.0</td>\n",
       "      <td>2.511644</td>\n",
       "      <td>0.663760</td>\n",
       "      <td>1.0</td>\n",
       "      <td>2.00</td>\n",
       "      <td>2.0</td>\n",
       "      <td>3.00</td>\n",
       "      <td>4.0</td>\n",
       "    </tr>\n",
       "    <tr>\n",
       "      <th>BldgType</th>\n",
       "      <td>1460.0</td>\n",
       "      <td>4.555479</td>\n",
       "      <td>1.068108</td>\n",
       "      <td>1.0</td>\n",
       "      <td>5.00</td>\n",
       "      <td>5.0</td>\n",
       "      <td>5.00</td>\n",
       "      <td>5.0</td>\n",
       "    </tr>\n",
       "    <tr>\n",
       "      <th>OverallCond</th>\n",
       "      <td>1460.0</td>\n",
       "      <td>5.575342</td>\n",
       "      <td>1.112799</td>\n",
       "      <td>1.0</td>\n",
       "      <td>5.00</td>\n",
       "      <td>5.0</td>\n",
       "      <td>6.00</td>\n",
       "      <td>9.0</td>\n",
       "    </tr>\n",
       "  </tbody>\n",
       "</table>\n",
       "</div>"
      ],
      "text/plain": [
       "               count         mean         std     min      25%     50%  \\\n",
       "OverallQual   1460.0     6.099315    1.382997     1.0     5.00     6.0   \n",
       "YearBuilt     1460.0  1971.267808   30.202904  1872.0  1954.00  1973.0   \n",
       "YearRemodAdd  1460.0  1984.865753   20.645407  1950.0  1967.00  1994.0   \n",
       "ExterQual     1460.0     2.395890    0.574280     1.0     2.00     2.0   \n",
       "TotalBsmtSF   1460.0  1057.429452  438.705324     0.0   795.75   991.5   \n",
       "1stFlrSF      1460.0  1162.626712  386.587738   334.0   882.00  1087.0   \n",
       "GrLivArea     1460.0  1515.463699  525.480383   334.0  1129.50  1464.0   \n",
       "FullBath      1460.0     1.565068    0.550916     0.0     1.00     2.0   \n",
       "TotRmsAbvGrd  1460.0     6.517808    1.625393     2.0     5.00     6.0   \n",
       "GarageCars    1460.0     1.767123    0.747315     0.0     1.00     2.0   \n",
       "GarageArea    1460.0   472.980137  213.804841     0.0   334.50   480.0   \n",
       "Neighborhood  1460.0    15.395205    5.915383     1.0    11.00    15.0   \n",
       "HouseStyle    1460.0     4.976712    1.155257     1.0     5.00     5.0   \n",
       "KitchenQual   1460.0     2.511644    0.663760     1.0     2.00     2.0   \n",
       "BldgType      1460.0     4.555479    1.068108     1.0     5.00     5.0   \n",
       "OverallCond   1460.0     5.575342    1.112799     1.0     5.00     5.0   \n",
       "\n",
       "                  75%     max  \n",
       "OverallQual      7.00    10.0  \n",
       "YearBuilt     2000.00  2010.0  \n",
       "YearRemodAdd  2004.00  2010.0  \n",
       "ExterQual        3.00     4.0  \n",
       "TotalBsmtSF   1298.25  6110.0  \n",
       "1stFlrSF      1391.25  4692.0  \n",
       "GrLivArea     1776.75  5642.0  \n",
       "FullBath         2.00     3.0  \n",
       "TotRmsAbvGrd     7.00    14.0  \n",
       "GarageCars       2.00     4.0  \n",
       "GarageArea     576.00  1418.0  \n",
       "Neighborhood    21.00    25.0  \n",
       "HouseStyle       6.00     8.0  \n",
       "KitchenQual      3.00     4.0  \n",
       "BldgType         5.00     5.0  \n",
       "OverallCond      6.00     9.0  "
      ]
     },
     "execution_count": 39,
     "metadata": {},
     "output_type": "execute_result"
    }
   ],
   "source": [
    "# Look at the description of the input columns\n",
    "x_stats = labels.describe()\n",
    "x_stats.pop('SalePrice')\n",
    "x_stats = x_stats.transpose()\n",
    "x_stats"
   ]
  },
  {
   "cell_type": "code",
   "execution_count": 40,
   "metadata": {},
   "outputs": [],
   "source": [
    "# Remove SalePrice, the target value, from the training dataframe\n",
    "saleprice = labels.pop('SalePrice')"
   ]
  },
  {
   "cell_type": "code",
   "execution_count": 41,
   "metadata": {},
   "outputs": [
    {
     "data": {
      "text/html": [
       "<div>\n",
       "<style scoped>\n",
       "    .dataframe tbody tr th:only-of-type {\n",
       "        vertical-align: middle;\n",
       "    }\n",
       "\n",
       "    .dataframe tbody tr th {\n",
       "        vertical-align: top;\n",
       "    }\n",
       "\n",
       "    .dataframe thead th {\n",
       "        text-align: right;\n",
       "    }\n",
       "</style>\n",
       "<table border=\"1\" class=\"dataframe\">\n",
       "  <thead>\n",
       "    <tr style=\"text-align: right;\">\n",
       "      <th></th>\n",
       "      <th>OverallQual</th>\n",
       "      <th>YearBuilt</th>\n",
       "      <th>YearRemodAdd</th>\n",
       "      <th>ExterQual</th>\n",
       "      <th>TotalBsmtSF</th>\n",
       "      <th>1stFlrSF</th>\n",
       "      <th>GrLivArea</th>\n",
       "      <th>FullBath</th>\n",
       "      <th>TotRmsAbvGrd</th>\n",
       "      <th>GarageCars</th>\n",
       "      <th>GarageArea</th>\n",
       "      <th>Neighborhood</th>\n",
       "      <th>HouseStyle</th>\n",
       "      <th>KitchenQual</th>\n",
       "      <th>BldgType</th>\n",
       "      <th>OverallCond</th>\n",
       "    </tr>\n",
       "  </thead>\n",
       "  <tbody>\n",
       "    <tr>\n",
       "      <th>0</th>\n",
       "      <td>0.651256</td>\n",
       "      <td>1.050634</td>\n",
       "      <td>0.878367</td>\n",
       "      <td>1.051942</td>\n",
       "      <td>-0.459145</td>\n",
       "      <td>-0.793162</td>\n",
       "      <td>0.370207</td>\n",
       "      <td>0.78947</td>\n",
       "      <td>0.911897</td>\n",
       "      <td>0.311618</td>\n",
       "      <td>0.35088</td>\n",
       "      <td>0.947495</td>\n",
       "      <td>0.885766</td>\n",
       "      <td>0.735742</td>\n",
       "      <td>0.416176</td>\n",
       "      <td>-0.517023</td>\n",
       "    </tr>\n",
       "    <tr>\n",
       "      <th>1</th>\n",
       "      <td>-0.071812</td>\n",
       "      <td>0.156680</td>\n",
       "      <td>-0.429430</td>\n",
       "      <td>-0.689368</td>\n",
       "      <td>0.466305</td>\n",
       "      <td>0.257052</td>\n",
       "      <td>-0.482347</td>\n",
       "      <td>0.78947</td>\n",
       "      <td>-0.318574</td>\n",
       "      <td>0.311618</td>\n",
       "      <td>-0.06071</td>\n",
       "      <td>0.440343</td>\n",
       "      <td>0.020158</td>\n",
       "      <td>-0.770827</td>\n",
       "      <td>0.416176</td>\n",
       "      <td>2.178881</td>\n",
       "    </tr>\n",
       "  </tbody>\n",
       "</table>\n",
       "</div>"
      ],
      "text/plain": [
       "   OverallQual  YearBuilt  YearRemodAdd  ExterQual  TotalBsmtSF  1stFlrSF  \\\n",
       "0     0.651256   1.050634      0.878367   1.051942    -0.459145 -0.793162   \n",
       "1    -0.071812   0.156680     -0.429430  -0.689368     0.466305  0.257052   \n",
       "\n",
       "   GrLivArea  FullBath  TotRmsAbvGrd  GarageCars  GarageArea  Neighborhood  \\\n",
       "0   0.370207   0.78947      0.911897    0.311618     0.35088      0.947495   \n",
       "1  -0.482347   0.78947     -0.318574    0.311618    -0.06071      0.440343   \n",
       "\n",
       "   HouseStyle  KitchenQual  BldgType  OverallCond  \n",
       "0    0.885766     0.735742  0.416176    -0.517023  \n",
       "1    0.020158    -0.770827  0.416176     2.178881  "
      ]
     },
     "execution_count": 41,
     "metadata": {},
     "output_type": "execute_result"
    }
   ],
   "source": [
    "# Normalize the dataframe\n",
    "\n",
    "def norm(x):\n",
    "    return (x - x_stats['mean']) / x_stats['std']\n",
    "\n",
    "normed_x = norm(labels)\n",
    "\n",
    "normed_x.head(2)"
   ]
  },
  {
   "cell_type": "code",
   "execution_count": 42,
   "metadata": {},
   "outputs": [
    {
     "data": {
      "text/plain": [
       "OverallQual     0\n",
       "YearBuilt       0\n",
       "YearRemodAdd    0\n",
       "ExterQual       0\n",
       "TotalBsmtSF     0\n",
       "1stFlrSF        0\n",
       "GrLivArea       0\n",
       "FullBath        0\n",
       "TotRmsAbvGrd    0\n",
       "GarageCars      0\n",
       "GarageArea      0\n",
       "Neighborhood    0\n",
       "HouseStyle      0\n",
       "KitchenQual     0\n",
       "BldgType        0\n",
       "OverallCond     0\n",
       "dtype: int64"
      ]
     },
     "execution_count": 42,
     "metadata": {},
     "output_type": "execute_result"
    }
   ],
   "source": [
    "# Ensure no null values are in the training set\n",
    "normed_x.isna().sum()"
   ]
  },
  {
   "cell_type": "code",
   "execution_count": 43,
   "metadata": {},
   "outputs": [
    {
     "data": {
      "text/html": [
       "<div>\n",
       "<style scoped>\n",
       "    .dataframe tbody tr th:only-of-type {\n",
       "        vertical-align: middle;\n",
       "    }\n",
       "\n",
       "    .dataframe tbody tr th {\n",
       "        vertical-align: top;\n",
       "    }\n",
       "\n",
       "    .dataframe thead th {\n",
       "        text-align: right;\n",
       "    }\n",
       "</style>\n",
       "<table border=\"1\" class=\"dataframe\">\n",
       "  <thead>\n",
       "    <tr style=\"text-align: right;\">\n",
       "      <th></th>\n",
       "      <th>OverallQual</th>\n",
       "      <th>YearBuilt</th>\n",
       "      <th>YearRemodAdd</th>\n",
       "      <th>ExterQual</th>\n",
       "      <th>TotalBsmtSF</th>\n",
       "      <th>1stFlrSF</th>\n",
       "      <th>GrLivArea</th>\n",
       "      <th>FullBath</th>\n",
       "      <th>TotRmsAbvGrd</th>\n",
       "      <th>GarageCars</th>\n",
       "      <th>GarageArea</th>\n",
       "      <th>Neighborhood</th>\n",
       "      <th>HouseStyle</th>\n",
       "      <th>KitchenQual</th>\n",
       "      <th>BldgType</th>\n",
       "      <th>OverallCond</th>\n",
       "    </tr>\n",
       "  </thead>\n",
       "  <tbody>\n",
       "    <tr>\n",
       "      <th>1459</th>\n",
       "      <td>-0.794879</td>\n",
       "      <td>-0.207523</td>\n",
       "      <td>-0.962236</td>\n",
       "      <td>1.051942</td>\n",
       "      <td>0.452629</td>\n",
       "      <td>0.241532</td>\n",
       "      <td>-0.493765</td>\n",
       "      <td>-1.025689</td>\n",
       "      <td>-0.318574</td>\n",
       "      <td>-1.026506</td>\n",
       "      <td>-0.921308</td>\n",
       "      <td>-0.404911</td>\n",
       "      <td>0.020158</td>\n",
       "      <td>-0.770827</td>\n",
       "      <td>0.416176</td>\n",
       "      <td>0.381612</td>\n",
       "    </tr>\n",
       "  </tbody>\n",
       "</table>\n",
       "</div>"
      ],
      "text/plain": [
       "      OverallQual  YearBuilt  YearRemodAdd  ExterQual  TotalBsmtSF  1stFlrSF  \\\n",
       "1459    -0.794879  -0.207523     -0.962236   1.051942     0.452629  0.241532   \n",
       "\n",
       "      GrLivArea  FullBath  TotRmsAbvGrd  GarageCars  GarageArea  Neighborhood  \\\n",
       "1459  -0.493765 -1.025689     -0.318574   -1.026506   -0.921308     -0.404911   \n",
       "\n",
       "      HouseStyle  KitchenQual  BldgType  OverallCond  \n",
       "1459    0.020158    -0.770827  0.416176     0.381612  "
      ]
     },
     "execution_count": 43,
     "metadata": {},
     "output_type": "execute_result"
    }
   ],
   "source": [
    "normed_x.fillna(0)\n",
    "normed_x.tail(1)"
   ]
  },
  {
   "cell_type": "code",
   "execution_count": 44,
   "metadata": {},
   "outputs": [
    {
     "data": {
      "text/html": [
       "<div>\n",
       "<style scoped>\n",
       "    .dataframe tbody tr th:only-of-type {\n",
       "        vertical-align: middle;\n",
       "    }\n",
       "\n",
       "    .dataframe tbody tr th {\n",
       "        vertical-align: top;\n",
       "    }\n",
       "\n",
       "    .dataframe thead th {\n",
       "        text-align: right;\n",
       "    }\n",
       "</style>\n",
       "<table border=\"1\" class=\"dataframe\">\n",
       "  <thead>\n",
       "    <tr style=\"text-align: right;\">\n",
       "      <th></th>\n",
       "      <th>OverallQual</th>\n",
       "      <th>YearBuilt</th>\n",
       "      <th>YearRemodAdd</th>\n",
       "      <th>ExterQual</th>\n",
       "      <th>TotalBsmtSF</th>\n",
       "      <th>1stFlrSF</th>\n",
       "      <th>GrLivArea</th>\n",
       "      <th>FullBath</th>\n",
       "      <th>TotRmsAbvGrd</th>\n",
       "      <th>GarageCars</th>\n",
       "      <th>GarageArea</th>\n",
       "      <th>Neighborhood</th>\n",
       "      <th>HouseStyle</th>\n",
       "      <th>KitchenQual</th>\n",
       "      <th>BldgType</th>\n",
       "      <th>OverallCond</th>\n",
       "    </tr>\n",
       "  </thead>\n",
       "  <tbody>\n",
       "    <tr>\n",
       "      <th>0</th>\n",
       "      <td>0.651256</td>\n",
       "      <td>1.050634</td>\n",
       "      <td>0.878367</td>\n",
       "      <td>1.051942</td>\n",
       "      <td>-0.459145</td>\n",
       "      <td>-0.793162</td>\n",
       "      <td>0.370207</td>\n",
       "      <td>0.789470</td>\n",
       "      <td>0.911897</td>\n",
       "      <td>0.311618</td>\n",
       "      <td>0.350880</td>\n",
       "      <td>0.947495</td>\n",
       "      <td>0.885766</td>\n",
       "      <td>0.735742</td>\n",
       "      <td>0.416176</td>\n",
       "      <td>-0.517023</td>\n",
       "    </tr>\n",
       "    <tr>\n",
       "      <th>1</th>\n",
       "      <td>-0.071812</td>\n",
       "      <td>0.156680</td>\n",
       "      <td>-0.429430</td>\n",
       "      <td>-0.689368</td>\n",
       "      <td>0.466305</td>\n",
       "      <td>0.257052</td>\n",
       "      <td>-0.482347</td>\n",
       "      <td>0.789470</td>\n",
       "      <td>-0.318574</td>\n",
       "      <td>0.311618</td>\n",
       "      <td>-0.060710</td>\n",
       "      <td>0.440343</td>\n",
       "      <td>0.020158</td>\n",
       "      <td>-0.770827</td>\n",
       "      <td>0.416176</td>\n",
       "      <td>2.178881</td>\n",
       "    </tr>\n",
       "    <tr>\n",
       "      <th>2</th>\n",
       "      <td>0.651256</td>\n",
       "      <td>0.984415</td>\n",
       "      <td>0.829930</td>\n",
       "      <td>1.051942</td>\n",
       "      <td>-0.313261</td>\n",
       "      <td>-0.627611</td>\n",
       "      <td>0.514836</td>\n",
       "      <td>0.789470</td>\n",
       "      <td>-0.318574</td>\n",
       "      <td>0.311618</td>\n",
       "      <td>0.631510</td>\n",
       "      <td>0.947495</td>\n",
       "      <td>0.885766</td>\n",
       "      <td>0.735742</td>\n",
       "      <td>0.416176</td>\n",
       "      <td>-0.517023</td>\n",
       "    </tr>\n",
       "    <tr>\n",
       "      <th>3</th>\n",
       "      <td>0.651256</td>\n",
       "      <td>-1.862993</td>\n",
       "      <td>-0.720051</td>\n",
       "      <td>-0.689368</td>\n",
       "      <td>-0.687089</td>\n",
       "      <td>-0.521555</td>\n",
       "      <td>0.383528</td>\n",
       "      <td>-1.025689</td>\n",
       "      <td>0.296662</td>\n",
       "      <td>1.649742</td>\n",
       "      <td>0.790533</td>\n",
       "      <td>0.609393</td>\n",
       "      <td>0.885766</td>\n",
       "      <td>0.735742</td>\n",
       "      <td>0.416176</td>\n",
       "      <td>-0.517023</td>\n",
       "    </tr>\n",
       "    <tr>\n",
       "      <th>4</th>\n",
       "      <td>1.374324</td>\n",
       "      <td>0.951306</td>\n",
       "      <td>0.733056</td>\n",
       "      <td>1.051942</td>\n",
       "      <td>0.199611</td>\n",
       "      <td>-0.045596</td>\n",
       "      <td>1.298881</td>\n",
       "      <td>0.789470</td>\n",
       "      <td>1.527133</td>\n",
       "      <td>1.649742</td>\n",
       "      <td>1.697903</td>\n",
       "      <td>1.623698</td>\n",
       "      <td>0.885766</td>\n",
       "      <td>0.735742</td>\n",
       "      <td>0.416176</td>\n",
       "      <td>-0.517023</td>\n",
       "    </tr>\n",
       "  </tbody>\n",
       "</table>\n",
       "</div>"
      ],
      "text/plain": [
       "   OverallQual  YearBuilt  YearRemodAdd  ExterQual  TotalBsmtSF  1stFlrSF  \\\n",
       "0     0.651256   1.050634      0.878367   1.051942    -0.459145 -0.793162   \n",
       "1    -0.071812   0.156680     -0.429430  -0.689368     0.466305  0.257052   \n",
       "2     0.651256   0.984415      0.829930   1.051942    -0.313261 -0.627611   \n",
       "3     0.651256  -1.862993     -0.720051  -0.689368    -0.687089 -0.521555   \n",
       "4     1.374324   0.951306      0.733056   1.051942     0.199611 -0.045596   \n",
       "\n",
       "   GrLivArea  FullBath  TotRmsAbvGrd  GarageCars  GarageArea  Neighborhood  \\\n",
       "0   0.370207  0.789470      0.911897    0.311618    0.350880      0.947495   \n",
       "1  -0.482347  0.789470     -0.318574    0.311618   -0.060710      0.440343   \n",
       "2   0.514836  0.789470     -0.318574    0.311618    0.631510      0.947495   \n",
       "3   0.383528 -1.025689      0.296662    1.649742    0.790533      0.609393   \n",
       "4   1.298881  0.789470      1.527133    1.649742    1.697903      1.623698   \n",
       "\n",
       "   HouseStyle  KitchenQual  BldgType  OverallCond  \n",
       "0    0.885766     0.735742  0.416176    -0.517023  \n",
       "1    0.020158    -0.770827  0.416176     2.178881  \n",
       "2    0.885766     0.735742  0.416176    -0.517023  \n",
       "3    0.885766     0.735742  0.416176    -0.517023  \n",
       "4    0.885766     0.735742  0.416176    -0.517023  "
      ]
     },
     "execution_count": 44,
     "metadata": {},
     "output_type": "execute_result"
    }
   ],
   "source": [
    "normed_x.head()"
   ]
  },
  {
   "cell_type": "code",
   "execution_count": 45,
   "metadata": {},
   "outputs": [],
   "source": [
    "dataset = pd.concat([normed_x, saleprice], axis=1)#, ignore_index=False)"
   ]
  },
  {
   "cell_type": "code",
   "execution_count": 46,
   "metadata": {},
   "outputs": [
    {
     "data": {
      "text/html": [
       "<div>\n",
       "<style scoped>\n",
       "    .dataframe tbody tr th:only-of-type {\n",
       "        vertical-align: middle;\n",
       "    }\n",
       "\n",
       "    .dataframe tbody tr th {\n",
       "        vertical-align: top;\n",
       "    }\n",
       "\n",
       "    .dataframe thead th {\n",
       "        text-align: right;\n",
       "    }\n",
       "</style>\n",
       "<table border=\"1\" class=\"dataframe\">\n",
       "  <thead>\n",
       "    <tr style=\"text-align: right;\">\n",
       "      <th></th>\n",
       "      <th>OverallQual</th>\n",
       "      <th>YearBuilt</th>\n",
       "      <th>YearRemodAdd</th>\n",
       "      <th>ExterQual</th>\n",
       "      <th>TotalBsmtSF</th>\n",
       "      <th>1stFlrSF</th>\n",
       "      <th>GrLivArea</th>\n",
       "      <th>FullBath</th>\n",
       "      <th>TotRmsAbvGrd</th>\n",
       "      <th>GarageCars</th>\n",
       "      <th>GarageArea</th>\n",
       "      <th>Neighborhood</th>\n",
       "      <th>HouseStyle</th>\n",
       "      <th>KitchenQual</th>\n",
       "      <th>BldgType</th>\n",
       "      <th>OverallCond</th>\n",
       "      <th>SalePrice</th>\n",
       "    </tr>\n",
       "  </thead>\n",
       "  <tbody>\n",
       "    <tr>\n",
       "      <th>0</th>\n",
       "      <td>0.651256</td>\n",
       "      <td>1.050634</td>\n",
       "      <td>0.878367</td>\n",
       "      <td>1.051942</td>\n",
       "      <td>-0.459145</td>\n",
       "      <td>-0.793162</td>\n",
       "      <td>0.370207</td>\n",
       "      <td>0.789470</td>\n",
       "      <td>0.911897</td>\n",
       "      <td>0.311618</td>\n",
       "      <td>0.350880</td>\n",
       "      <td>0.947495</td>\n",
       "      <td>0.885766</td>\n",
       "      <td>0.735742</td>\n",
       "      <td>0.416176</td>\n",
       "      <td>-0.517023</td>\n",
       "      <td>208500</td>\n",
       "    </tr>\n",
       "    <tr>\n",
       "      <th>1</th>\n",
       "      <td>-0.071812</td>\n",
       "      <td>0.156680</td>\n",
       "      <td>-0.429430</td>\n",
       "      <td>-0.689368</td>\n",
       "      <td>0.466305</td>\n",
       "      <td>0.257052</td>\n",
       "      <td>-0.482347</td>\n",
       "      <td>0.789470</td>\n",
       "      <td>-0.318574</td>\n",
       "      <td>0.311618</td>\n",
       "      <td>-0.060710</td>\n",
       "      <td>0.440343</td>\n",
       "      <td>0.020158</td>\n",
       "      <td>-0.770827</td>\n",
       "      <td>0.416176</td>\n",
       "      <td>2.178881</td>\n",
       "      <td>181500</td>\n",
       "    </tr>\n",
       "    <tr>\n",
       "      <th>2</th>\n",
       "      <td>0.651256</td>\n",
       "      <td>0.984415</td>\n",
       "      <td>0.829930</td>\n",
       "      <td>1.051942</td>\n",
       "      <td>-0.313261</td>\n",
       "      <td>-0.627611</td>\n",
       "      <td>0.514836</td>\n",
       "      <td>0.789470</td>\n",
       "      <td>-0.318574</td>\n",
       "      <td>0.311618</td>\n",
       "      <td>0.631510</td>\n",
       "      <td>0.947495</td>\n",
       "      <td>0.885766</td>\n",
       "      <td>0.735742</td>\n",
       "      <td>0.416176</td>\n",
       "      <td>-0.517023</td>\n",
       "      <td>223500</td>\n",
       "    </tr>\n",
       "    <tr>\n",
       "      <th>3</th>\n",
       "      <td>0.651256</td>\n",
       "      <td>-1.862993</td>\n",
       "      <td>-0.720051</td>\n",
       "      <td>-0.689368</td>\n",
       "      <td>-0.687089</td>\n",
       "      <td>-0.521555</td>\n",
       "      <td>0.383528</td>\n",
       "      <td>-1.025689</td>\n",
       "      <td>0.296662</td>\n",
       "      <td>1.649742</td>\n",
       "      <td>0.790533</td>\n",
       "      <td>0.609393</td>\n",
       "      <td>0.885766</td>\n",
       "      <td>0.735742</td>\n",
       "      <td>0.416176</td>\n",
       "      <td>-0.517023</td>\n",
       "      <td>140000</td>\n",
       "    </tr>\n",
       "    <tr>\n",
       "      <th>4</th>\n",
       "      <td>1.374324</td>\n",
       "      <td>0.951306</td>\n",
       "      <td>0.733056</td>\n",
       "      <td>1.051942</td>\n",
       "      <td>0.199611</td>\n",
       "      <td>-0.045596</td>\n",
       "      <td>1.298881</td>\n",
       "      <td>0.789470</td>\n",
       "      <td>1.527133</td>\n",
       "      <td>1.649742</td>\n",
       "      <td>1.697903</td>\n",
       "      <td>1.623698</td>\n",
       "      <td>0.885766</td>\n",
       "      <td>0.735742</td>\n",
       "      <td>0.416176</td>\n",
       "      <td>-0.517023</td>\n",
       "      <td>250000</td>\n",
       "    </tr>\n",
       "    <tr>\n",
       "      <th>...</th>\n",
       "      <td>...</td>\n",
       "      <td>...</td>\n",
       "      <td>...</td>\n",
       "      <td>...</td>\n",
       "      <td>...</td>\n",
       "      <td>...</td>\n",
       "      <td>...</td>\n",
       "      <td>...</td>\n",
       "      <td>...</td>\n",
       "      <td>...</td>\n",
       "      <td>...</td>\n",
       "      <td>...</td>\n",
       "      <td>...</td>\n",
       "      <td>...</td>\n",
       "      <td>...</td>\n",
       "      <td>...</td>\n",
       "      <td>...</td>\n",
       "    </tr>\n",
       "    <tr>\n",
       "      <th>1455</th>\n",
       "      <td>-0.071812</td>\n",
       "      <td>0.918196</td>\n",
       "      <td>0.733056</td>\n",
       "      <td>-0.689368</td>\n",
       "      <td>-0.238040</td>\n",
       "      <td>-0.542249</td>\n",
       "      <td>0.250316</td>\n",
       "      <td>0.789470</td>\n",
       "      <td>0.296662</td>\n",
       "      <td>0.311618</td>\n",
       "      <td>-0.060710</td>\n",
       "      <td>0.102241</td>\n",
       "      <td>0.885766</td>\n",
       "      <td>-0.770827</td>\n",
       "      <td>0.416176</td>\n",
       "      <td>-0.517023</td>\n",
       "      <td>175000</td>\n",
       "    </tr>\n",
       "    <tr>\n",
       "      <th>1456</th>\n",
       "      <td>-0.071812</td>\n",
       "      <td>0.222899</td>\n",
       "      <td>0.151813</td>\n",
       "      <td>-0.689368</td>\n",
       "      <td>1.104547</td>\n",
       "      <td>2.354894</td>\n",
       "      <td>1.061003</td>\n",
       "      <td>0.789470</td>\n",
       "      <td>0.296662</td>\n",
       "      <td>0.311618</td>\n",
       "      <td>0.126376</td>\n",
       "      <td>-0.743013</td>\n",
       "      <td>0.020158</td>\n",
       "      <td>-0.770827</td>\n",
       "      <td>0.416176</td>\n",
       "      <td>0.381612</td>\n",
       "      <td>210000</td>\n",
       "    </tr>\n",
       "    <tr>\n",
       "      <th>1457</th>\n",
       "      <td>0.651256</td>\n",
       "      <td>-1.002149</td>\n",
       "      <td>1.023678</td>\n",
       "      <td>2.793251</td>\n",
       "      <td>0.215567</td>\n",
       "      <td>0.065634</td>\n",
       "      <td>1.569110</td>\n",
       "      <td>0.789470</td>\n",
       "      <td>1.527133</td>\n",
       "      <td>-1.026506</td>\n",
       "      <td>-1.033560</td>\n",
       "      <td>0.609393</td>\n",
       "      <td>0.885766</td>\n",
       "      <td>0.735742</td>\n",
       "      <td>0.416176</td>\n",
       "      <td>3.077516</td>\n",
       "      <td>266500</td>\n",
       "    </tr>\n",
       "    <tr>\n",
       "      <th>1458</th>\n",
       "      <td>-0.794879</td>\n",
       "      <td>-0.704164</td>\n",
       "      <td>0.539309</td>\n",
       "      <td>-0.689368</td>\n",
       "      <td>0.046889</td>\n",
       "      <td>-0.218907</td>\n",
       "      <td>-0.832502</td>\n",
       "      <td>-1.025689</td>\n",
       "      <td>-0.933810</td>\n",
       "      <td>-1.026506</td>\n",
       "      <td>-1.089686</td>\n",
       "      <td>-0.066810</td>\n",
       "      <td>0.020158</td>\n",
       "      <td>0.735742</td>\n",
       "      <td>0.416176</td>\n",
       "      <td>0.381612</td>\n",
       "      <td>142125</td>\n",
       "    </tr>\n",
       "    <tr>\n",
       "      <th>1459</th>\n",
       "      <td>-0.794879</td>\n",
       "      <td>-0.207523</td>\n",
       "      <td>-0.962236</td>\n",
       "      <td>1.051942</td>\n",
       "      <td>0.452629</td>\n",
       "      <td>0.241532</td>\n",
       "      <td>-0.493765</td>\n",
       "      <td>-1.025689</td>\n",
       "      <td>-0.318574</td>\n",
       "      <td>-1.026506</td>\n",
       "      <td>-0.921308</td>\n",
       "      <td>-0.404911</td>\n",
       "      <td>0.020158</td>\n",
       "      <td>-0.770827</td>\n",
       "      <td>0.416176</td>\n",
       "      <td>0.381612</td>\n",
       "      <td>147500</td>\n",
       "    </tr>\n",
       "  </tbody>\n",
       "</table>\n",
       "<p>1460 rows × 17 columns</p>\n",
       "</div>"
      ],
      "text/plain": [
       "      OverallQual  YearBuilt  YearRemodAdd  ExterQual  TotalBsmtSF  1stFlrSF  \\\n",
       "0        0.651256   1.050634      0.878367   1.051942    -0.459145 -0.793162   \n",
       "1       -0.071812   0.156680     -0.429430  -0.689368     0.466305  0.257052   \n",
       "2        0.651256   0.984415      0.829930   1.051942    -0.313261 -0.627611   \n",
       "3        0.651256  -1.862993     -0.720051  -0.689368    -0.687089 -0.521555   \n",
       "4        1.374324   0.951306      0.733056   1.051942     0.199611 -0.045596   \n",
       "...           ...        ...           ...        ...          ...       ...   \n",
       "1455    -0.071812   0.918196      0.733056  -0.689368    -0.238040 -0.542249   \n",
       "1456    -0.071812   0.222899      0.151813  -0.689368     1.104547  2.354894   \n",
       "1457     0.651256  -1.002149      1.023678   2.793251     0.215567  0.065634   \n",
       "1458    -0.794879  -0.704164      0.539309  -0.689368     0.046889 -0.218907   \n",
       "1459    -0.794879  -0.207523     -0.962236   1.051942     0.452629  0.241532   \n",
       "\n",
       "      GrLivArea  FullBath  TotRmsAbvGrd  GarageCars  GarageArea  Neighborhood  \\\n",
       "0      0.370207  0.789470      0.911897    0.311618    0.350880      0.947495   \n",
       "1     -0.482347  0.789470     -0.318574    0.311618   -0.060710      0.440343   \n",
       "2      0.514836  0.789470     -0.318574    0.311618    0.631510      0.947495   \n",
       "3      0.383528 -1.025689      0.296662    1.649742    0.790533      0.609393   \n",
       "4      1.298881  0.789470      1.527133    1.649742    1.697903      1.623698   \n",
       "...         ...       ...           ...         ...         ...           ...   \n",
       "1455   0.250316  0.789470      0.296662    0.311618   -0.060710      0.102241   \n",
       "1456   1.061003  0.789470      0.296662    0.311618    0.126376     -0.743013   \n",
       "1457   1.569110  0.789470      1.527133   -1.026506   -1.033560      0.609393   \n",
       "1458  -0.832502 -1.025689     -0.933810   -1.026506   -1.089686     -0.066810   \n",
       "1459  -0.493765 -1.025689     -0.318574   -1.026506   -0.921308     -0.404911   \n",
       "\n",
       "      HouseStyle  KitchenQual  BldgType  OverallCond  SalePrice  \n",
       "0       0.885766     0.735742  0.416176    -0.517023     208500  \n",
       "1       0.020158    -0.770827  0.416176     2.178881     181500  \n",
       "2       0.885766     0.735742  0.416176    -0.517023     223500  \n",
       "3       0.885766     0.735742  0.416176    -0.517023     140000  \n",
       "4       0.885766     0.735742  0.416176    -0.517023     250000  \n",
       "...          ...          ...       ...          ...        ...  \n",
       "1455    0.885766    -0.770827  0.416176    -0.517023     175000  \n",
       "1456    0.020158    -0.770827  0.416176     0.381612     210000  \n",
       "1457    0.885766     0.735742  0.416176     3.077516     266500  \n",
       "1458    0.020158     0.735742  0.416176     0.381612     142125  \n",
       "1459    0.020158    -0.770827  0.416176     0.381612     147500  \n",
       "\n",
       "[1460 rows x 17 columns]"
      ]
     },
     "execution_count": 46,
     "metadata": {},
     "output_type": "execute_result"
    }
   ],
   "source": [
    "dataset"
   ]
  },
  {
   "cell_type": "code",
   "execution_count": 47,
   "metadata": {},
   "outputs": [],
   "source": [
    "dataset.to_csv('home_prices.csv',header=True,index=False)"
   ]
  },
  {
   "cell_type": "markdown",
   "metadata": {},
   "source": [
    "---\n",
    "## Models\n",
    "---\n"
   ]
  },
  {
   "cell_type": "code",
   "execution_count": 48,
   "metadata": {},
   "outputs": [],
   "source": [
    "# Splitting the dataset into the Training set and Test set\n",
    "X_train, X_test, Y_train, Y_test  = train_test_split(normed_x, saleprice, test_size = 1/3, random_state = 42, shuffle=True)"
   ]
  },
  {
   "cell_type": "code",
   "execution_count": 49,
   "metadata": {},
   "outputs": [
    {
     "data": {
      "text/plain": [
       "(1460,)"
      ]
     },
     "execution_count": 49,
     "metadata": {},
     "output_type": "execute_result"
    }
   ],
   "source": [
    "axis = np.arange(0,1460)\n",
    "axis.shape"
   ]
  },
  {
   "cell_type": "markdown",
   "metadata": {},
   "source": [
    "### Linear Regression Model"
   ]
  },
  {
   "cell_type": "code",
   "execution_count": 50,
   "metadata": {},
   "outputs": [
    {
     "name": "stdout",
     "output_type": "stream",
     "text": [
      "Linear Regression Model\n",
      "\n",
      "RMSE:  36778.89641515409\n",
      "\n",
      "Score 81.42\n"
     ]
    }
   ],
   "source": [
    "#Linear Regression Model\n",
    "def linearRegression():\n",
    "    model = LinearRegression()\n",
    "    model.fit(X_train, Y_train)\n",
    "    return model\n",
    "\n",
    "linear_mod = linearRegression()\n",
    "\n",
    "print('Linear Regression Model')\n",
    "\n",
    "print('\\nRMSE: ', sqrt(mean_squared_error(Y_test,linear_mod.predict(X_test))))\n",
    "print('\\nScore',round(linear_mod.score(X_test, Y_test)*100,2))"
   ]
  },
  {
   "cell_type": "code",
   "execution_count": 51,
   "metadata": {},
   "outputs": [
    {
     "data": {
      "text/plain": [
       "0       CollgCr\n",
       "1       Veenker\n",
       "2       CollgCr\n",
       "3       Crawfor\n",
       "4       NoRidge\n",
       "         ...   \n",
       "1455    Gilbert\n",
       "1456     NWAmes\n",
       "1457    Crawfor\n",
       "1458      NAmes\n",
       "1459    Edwards\n",
       "Name: Neighborhood, Length: 1460, dtype: object"
      ]
     },
     "execution_count": 51,
     "metadata": {},
     "output_type": "execute_result"
    }
   ],
   "source": [
    "hood"
   ]
  },
  {
   "cell_type": "code",
   "execution_count": 87,
   "metadata": {},
   "outputs": [
    {
     "data": {
      "image/png": "[encoded data removed]",
      "text/plain": [
       "<Figure size 504x504 with 1 Axes>"
      ]
     },
     "metadata": {
      "needs_background": "light"
     },
     "output_type": "display_data"
    }
   ],
   "source": [
    "plot_mod = plot_model(linear_mod)"
   ]
  },
  {
   "cell_type": "markdown",
   "metadata": {},
   "source": [
    "### Decision Tree Regression Model"
   ]
  },
  {
   "cell_type": "code",
   "execution_count": 53,
   "metadata": {},
   "outputs": [
    {
     "name": "stdout",
     "output_type": "stream",
     "text": [
      "Decision Tree Regression Model\n",
      "\n",
      "RMSE:  44379.40078333792\n",
      "\n",
      "Score 72.94\n"
     ]
    }
   ],
   "source": [
    "#DecisionTreeRegressor\n",
    "def decisionTree():\n",
    "    model = DecisionTreeRegressor(criterion='mse', splitter='random', max_depth=8, max_features='log2')\n",
    "    model.fit(X_train, Y_train)\n",
    "    return model\n",
    "\n",
    "decision_mod = decisionTree()\n",
    "\n",
    "print('Decision Tree Regression Model')\n",
    "\n",
    "print('\\nRMSE: ', sqrt(mean_squared_error(Y_test, decision_mod.predict(X_test))))\n",
    "print('\\nScore',round(decision_mod.score(X_test, Y_test)*100,2))"
   ]
  },
  {
   "cell_type": "code",
   "execution_count": 88,
   "metadata": {},
   "outputs": [
    {
     "data": {
      "image/png": "[encoded data removed]",
      "text/plain": [
       "<Figure size 504x504 with 1 Axes>"
      ]
     },
     "metadata": {
      "needs_background": "light"
     },
     "output_type": "display_data"
    }
   ],
   "source": [
    "plot_mod = plot_model(decision_mod)"
   ]
  },
  {
   "cell_type": "markdown",
   "metadata": {},
   "source": [
    "### Random Forest Regression Model"
   ]
  },
  {
   "cell_type": "code",
   "execution_count": 55,
   "metadata": {},
   "outputs": [
    {
     "name": "stdout",
     "output_type": "stream",
     "text": [
      "Random Forest Regression Model\n",
      "\n",
      "RMSE:  29662.630133573613\n",
      "\n",
      "Score 87.91\n"
     ]
    }
   ],
   "source": [
    "#Random Forest Regression\n",
    "def forestRegression():\n",
    "    model = RandomForestRegressor(n_estimators = 1000, random_state = 42)\n",
    "    model.fit(X_train, Y_train)\n",
    "    return model\n",
    "    \n",
    "forest_mod = forestRegression()\n",
    "\n",
    "print('Random Forest Regression Model')\n",
    "\n",
    "print('\\nRMSE: ', sqrt(mean_squared_error(Y_test,forest_mod.predict(X_test))))\n",
    "print('\\nScore',round(forest_mod.score(X_test, Y_test)*100,2))"
   ]
  },
  {
   "cell_type": "code",
   "execution_count": 89,
   "metadata": {},
   "outputs": [
    {
     "data": {
      "image/png": "[encoded data removed]",
      "text/plain": [
       "<Figure size 504x504 with 1 Axes>"
      ]
     },
     "metadata": {
      "needs_background": "light"
     },
     "output_type": "display_data"
    }
   ],
   "source": [
    "plot_mod = plot_model(forest_mod)"
   ]
  },
  {
   "cell_type": "markdown",
   "metadata": {},
   "source": [
    "### TensorFlow model using keras.Sequential()"
   ]
  },
  {
   "cell_type": "code",
   "execution_count": 57,
   "metadata": {},
   "outputs": [
    {
     "name": "stdout",
     "output_type": "stream",
     "text": [
      "Model: \"sequential\"\n",
      "_________________________________________________________________\n",
      "Layer (type)                 Output Shape              Param #   \n",
      "=================================================================\n",
      "dense (Dense)                (None, 64)                1088      \n",
      "_________________________________________________________________\n",
      "dense_1 (Dense)              (None, 64)                4160      \n",
      "_________________________________________________________________\n",
      "dense_2 (Dense)              (None, 1)                 65        \n",
      "=================================================================\n",
      "Total params: 5,313\n",
      "Trainable params: 5,313\n",
      "Non-trainable params: 0\n",
      "_________________________________________________________________\n"
     ]
    }
   ],
   "source": [
    "def kerasSequential():\n",
    "    model = keras.Sequential([\n",
    "        layers.Dense(64, activation='relu', input_shape=[len(labels.keys())]),\n",
    "        layers.Dense(64, activation='relu'),\n",
    "        layers.Dense(1)\n",
    "    ])\n",
    "\n",
    "    optimizer = tf.keras.optimizers.RMSprop(0.001)\n",
    "\n",
    "    model.compile(loss='mse',\n",
    "                optimizer=optimizer,\n",
    "                metrics=['mae', 'mse'])\n",
    "    \n",
    "    return model\n",
    "keras_mod = kerasSequential()\n",
    "\n",
    "keras_mod.summary()"
   ]
  },
  {
   "cell_type": "code",
   "execution_count": 58,
   "metadata": {},
   "outputs": [
    {
     "name": "stdout",
     "output_type": "stream",
     "text": [
      "\n",
      "....................................................................................................\n",
      "....................................................................................................\n",
      "....................................................................................................\n",
      "....................................................................................................\n",
      "....................................................................................................\n",
      "....................................................................................................\n",
      "....................................................................................................\n",
      "....................................................................................................\n",
      "....................................................................................................\n",
      "....................................................................................................\n",
      "Completed.\n"
     ]
    }
   ],
   "source": [
    "# Display training progress by printing a single dot for each completed epoch\n",
    "class PrintDot(keras.callbacks.Callback):\n",
    "  def on_epoch_end(self, epoch, logs):\n",
    "    if epoch % 100 == 0: print('')\n",
    "    print('.', end='')\n",
    "\n",
    "EPOCHS = 1000\n",
    "\n",
    "history = keras_mod.fit(normed_x,\n",
    "                    saleprice,\n",
    "                    epochs=EPOCHS,\n",
    "                    batch_size=128,\n",
    "                    validation_split = 0.2,\n",
    "                    verbose=0,\n",
    "                    callbacks=[PrintDot()])\n",
    "print('\\nCompleted.')"
   ]
  },
  {
   "cell_type": "code",
   "execution_count": 59,
   "metadata": {},
   "outputs": [],
   "source": [
    "hist = pd.DataFrame(history.history)\n",
    "hist['epoch'] = history.epoch"
   ]
  },
  {
   "cell_type": "code",
   "execution_count": 60,
   "metadata": {},
   "outputs": [
    {
     "data": {
      "text/html": [
       "<div>\n",
       "<style scoped>\n",
       "    .dataframe tbody tr th:only-of-type {\n",
       "        vertical-align: middle;\n",
       "    }\n",
       "\n",
       "    .dataframe tbody tr th {\n",
       "        vertical-align: top;\n",
       "    }\n",
       "\n",
       "    .dataframe thead th {\n",
       "        text-align: right;\n",
       "    }\n",
       "</style>\n",
       "<table border=\"1\" class=\"dataframe\">\n",
       "  <thead>\n",
       "    <tr style=\"text-align: right;\">\n",
       "      <th></th>\n",
       "      <th>loss</th>\n",
       "      <th>mae</th>\n",
       "      <th>mse</th>\n",
       "      <th>val_loss</th>\n",
       "      <th>val_mae</th>\n",
       "      <th>val_mse</th>\n",
       "      <th>epoch</th>\n",
       "    </tr>\n",
       "  </thead>\n",
       "  <tbody>\n",
       "    <tr>\n",
       "      <th>count</th>\n",
       "      <td>1.000000e+03</td>\n",
       "      <td>1000.000000</td>\n",
       "      <td>1.000000e+03</td>\n",
       "      <td>1.000000e+03</td>\n",
       "      <td>1000.000000</td>\n",
       "      <td>1.000000e+03</td>\n",
       "      <td>1000.000000</td>\n",
       "    </tr>\n",
       "    <tr>\n",
       "      <th>mean</th>\n",
       "      <td>8.151706e+09</td>\n",
       "      <td>60307.447111</td>\n",
       "      <td>8.151706e+09</td>\n",
       "      <td>9.519971e+09</td>\n",
       "      <td>62749.545594</td>\n",
       "      <td>9.519971e+09</td>\n",
       "      <td>499.500000</td>\n",
       "    </tr>\n",
       "    <tr>\n",
       "      <th>std</th>\n",
       "      <td>1.174167e+10</td>\n",
       "      <td>51795.763974</td>\n",
       "      <td>1.174167e+10</td>\n",
       "      <td>1.158427e+10</td>\n",
       "      <td>51341.073120</td>\n",
       "      <td>1.158427e+10</td>\n",
       "      <td>288.819436</td>\n",
       "    </tr>\n",
       "    <tr>\n",
       "      <th>min</th>\n",
       "      <td>9.157670e+08</td>\n",
       "      <td>19766.791016</td>\n",
       "      <td>9.157670e+08</td>\n",
       "      <td>2.086699e+09</td>\n",
       "      <td>22176.585938</td>\n",
       "      <td>2.086699e+09</td>\n",
       "      <td>0.000000</td>\n",
       "    </tr>\n",
       "    <tr>\n",
       "      <th>25%</th>\n",
       "      <td>1.135351e+09</td>\n",
       "      <td>23282.005859</td>\n",
       "      <td>1.135351e+09</td>\n",
       "      <td>2.307253e+09</td>\n",
       "      <td>25745.250000</td>\n",
       "      <td>2.307253e+09</td>\n",
       "      <td>249.750000</td>\n",
       "    </tr>\n",
       "    <tr>\n",
       "      <th>50%</th>\n",
       "      <td>2.661997e+09</td>\n",
       "      <td>37780.658203</td>\n",
       "      <td>2.661997e+09</td>\n",
       "      <td>4.271648e+09</td>\n",
       "      <td>40660.437500</td>\n",
       "      <td>4.271648e+09</td>\n",
       "      <td>499.500000</td>\n",
       "    </tr>\n",
       "    <tr>\n",
       "      <th>75%</th>\n",
       "      <td>6.435872e+09</td>\n",
       "      <td>63644.172852</td>\n",
       "      <td>6.435873e+09</td>\n",
       "      <td>8.656175e+09</td>\n",
       "      <td>66691.380859</td>\n",
       "      <td>8.656175e+09</td>\n",
       "      <td>749.250000</td>\n",
       "    </tr>\n",
       "    <tr>\n",
       "      <th>max</th>\n",
       "      <td>3.881904e+10</td>\n",
       "      <td>180589.281250</td>\n",
       "      <td>3.881905e+10</td>\n",
       "      <td>3.991767e+10</td>\n",
       "      <td>182242.671875</td>\n",
       "      <td>3.991767e+10</td>\n",
       "      <td>999.000000</td>\n",
       "    </tr>\n",
       "  </tbody>\n",
       "</table>\n",
       "</div>"
      ],
      "text/plain": [
       "               loss            mae           mse      val_loss        val_mae  \\\n",
       "count  1.000000e+03    1000.000000  1.000000e+03  1.000000e+03    1000.000000   \n",
       "mean   8.151706e+09   60307.447111  8.151706e+09  9.519971e+09   62749.545594   \n",
       "std    1.174167e+10   51795.763974  1.174167e+10  1.158427e+10   51341.073120   \n",
       "min    9.157670e+08   19766.791016  9.157670e+08  2.086699e+09   22176.585938   \n",
       "25%    1.135351e+09   23282.005859  1.135351e+09  2.307253e+09   25745.250000   \n",
       "50%    2.661997e+09   37780.658203  2.661997e+09  4.271648e+09   40660.437500   \n",
       "75%    6.435872e+09   63644.172852  6.435873e+09  8.656175e+09   66691.380859   \n",
       "max    3.881904e+10  180589.281250  3.881905e+10  3.991767e+10  182242.671875   \n",
       "\n",
       "            val_mse        epoch  \n",
       "count  1.000000e+03  1000.000000  \n",
       "mean   9.519971e+09   499.500000  \n",
       "std    1.158427e+10   288.819436  \n",
       "min    2.086699e+09     0.000000  \n",
       "25%    2.307253e+09   249.750000  \n",
       "50%    4.271648e+09   499.500000  \n",
       "75%    8.656175e+09   749.250000  \n",
       "max    3.991767e+10   999.000000  "
      ]
     },
     "execution_count": 60,
     "metadata": {},
     "output_type": "execute_result"
    }
   ],
   "source": [
    "hist.describe()"
   ]
  },
  {
   "cell_type": "code",
   "execution_count": 61,
   "metadata": {},
   "outputs": [
    {
     "data": {
      "image/png": "[encoded data removed]",
      "text/plain": [
       "<Figure size 864x288 with 1 Axes>"
      ]
     },
     "metadata": {
      "needs_background": "light"
     },
     "output_type": "display_data"
    }
   ],
   "source": [
    "# Compare training and valudation error over epochs of training, to avoid overfitting issues\n",
    "def plot_history(history):\n",
    "    hist = pd.DataFrame(history.history)\n",
    "    hist['epoch'] = history.epoch\n",
    "\n",
    "    plt.figure(figsize=[12.0,4.0])\n",
    "    plt.xlabel('Epoch')\n",
    "    plt.ylabel('Mean Abs Error [SalePrice]')\n",
    "    plt.plot(hist['epoch'], hist['mae'],\n",
    "           label='Train Error')\n",
    "    plt.plot(hist['epoch'], hist['val_mae'],\n",
    "           label = 'Val Error')\n",
    "    plt.ylim([15000,40000])\n",
    "    plt.legend()\n",
    "\n",
    "\n",
    "plot_history(history)"
   ]
  },
  {
   "cell_type": "code",
   "execution_count": 90,
   "metadata": {},
   "outputs": [
    {
     "data": {
      "image/png": "[encoded data removed]",
      "text/plain": [
       "<Figure size 504x504 with 1 Axes>"
      ]
     },
     "metadata": {
      "needs_background": "light"
     },
     "output_type": "display_data"
    }
   ],
   "source": [
    "plot_mod = plot_model(keras_mod)"
   ]
  },
  {
   "cell_type": "code",
   "execution_count": 63,
   "metadata": {},
   "outputs": [
    {
     "name": "stdout",
     "output_type": "stream",
     "text": [
      "1460\n"
     ]
    }
   ],
   "source": [
    "print(len(train))"
   ]
  },
  {
   "cell_type": "code",
   "execution_count": 64,
   "metadata": {},
   "outputs": [],
   "source": [
    "features = trn_csv[labels.columns]"
   ]
  },
  {
   "cell_type": "code",
   "execution_count": 65,
   "metadata": {},
   "outputs": [
    {
     "name": "stdout",
     "output_type": "stream",
     "text": [
      "OverallQual : 6\n",
      "YearBuilt : 1929\n",
      "YearRemodAdd : 1950\n",
      "ExterQual : TA\n",
      "TotalBsmtSF : 862\n",
      "1stFlrSF : 950\n",
      "GrLivArea : 1158\n",
      "FullBath : 1\n",
      "TotRmsAbvGrd : 5\n",
      "GarageCars : 1\n",
      "GarageArea : 208\n",
      "Neighborhood : BrkSide\n",
      "HouseStyle : 1.5Fin\n",
      "KitchenQual : TA\n",
      "BldgType : 1Fam\n",
      "OverallCond : 7\n"
     ]
    }
   ],
   "source": [
    "# Verify the neural net on an arbitrary row of the training data\n",
    "train_rows = 1400\n",
    "train_cols = len(labels.columns) - 1\n",
    "k = 0\n",
    "x = float(labels.iloc[train_rows,train_cols])\n",
    "y_actual = [train.SalePrice.iloc[train_rows]]\n",
    "y = normed_x.iloc[train_rows].tolist()\n",
    "value = keras_mod.predict([y]).flatten().round()\n",
    "while k <= train_cols:\n",
    "    print(features.columns[k],':', features.iloc[train_rows,k])\n",
    "    k += 1"
   ]
  },
  {
   "cell_type": "code",
   "execution_count": 66,
   "metadata": {},
   "outputs": [
    {
     "name": "stdout",
     "output_type": "stream",
     "text": [
      "\n",
      "Keras Sequential Model\n",
      "\n",
      "\n",
      "The actual sale price of the home is: $149000.00\n",
      "\n",
      "The INFERED price of the home is :    $135588.00\n",
      "\n",
      "RMSE:  15588.0\n",
      "\n",
      "Score:  87.39\n"
     ]
    }
   ],
   "source": [
    "from sklearn.metrics import r2_score\n",
    "\n",
    "print('\\nKeras Sequential Model')\n",
    "print('\\n\\nThe actual sale price of the home is: $'+str(train.SalePrice.iloc[k])+'.00')\n",
    "print('\\nThe INFERED price of the home is :    $'+str(value[0])+str(0))\n",
    "\n",
    "print('\\nRMSE: ', sqrt(mean_squared_error(y_actual,value)))\n",
    "print('\\nScore: ', round(r2_score(Y_test, keras_mod.predict(X_test))*100,2))"
   ]
  },
  {
   "cell_type": "markdown",
   "metadata": {},
   "source": [
    "---\n",
    "### Predict Price Using Test Dataset\n",
    "---"
   ]
  },
  {
   "cell_type": "code",
   "execution_count": 67,
   "metadata": {},
   "outputs": [],
   "source": [
    "test_y = test[features.columns]"
   ]
  },
  {
   "cell_type": "code",
   "execution_count": 68,
   "metadata": {},
   "outputs": [
    {
     "name": "stderr",
     "output_type": "stream",
     "text": [
      "/home/todd/anaconda3/lib/python3.7/site-packages/ipykernel_launcher.py:7: SettingWithCopyWarning: \n",
      "A value is trying to be set on a copy of a slice from a DataFrame.\n",
      "Try using .loc[row_indexer,col_indexer] = value instead\n",
      "\n",
      "See the caveats in the documentation: https://pandas.pydata.org/pandas-docs/stable/user_guide/indexing.html#returning-a-view-versus-a-copy\n",
      "  import sys\n",
      "/home/todd/anaconda3/lib/python3.7/site-packages/ipykernel_launcher.py:8: SettingWithCopyWarning: \n",
      "A value is trying to be set on a copy of a slice from a DataFrame.\n",
      "Try using .loc[row_indexer,col_indexer] = value instead\n",
      "\n",
      "See the caveats in the documentation: https://pandas.pydata.org/pandas-docs/stable/user_guide/indexing.html#returning-a-view-versus-a-copy\n",
      "  \n"
     ]
    },
    {
     "data": {
      "text/html": [
       "<div>\n",
       "<style scoped>\n",
       "    .dataframe tbody tr th:only-of-type {\n",
       "        vertical-align: middle;\n",
       "    }\n",
       "\n",
       "    .dataframe tbody tr th {\n",
       "        vertical-align: top;\n",
       "    }\n",
       "\n",
       "    .dataframe thead th {\n",
       "        text-align: right;\n",
       "    }\n",
       "</style>\n",
       "<table border=\"1\" class=\"dataframe\">\n",
       "  <thead>\n",
       "    <tr style=\"text-align: right;\">\n",
       "      <th></th>\n",
       "      <th>OverallQual</th>\n",
       "      <th>YearBuilt</th>\n",
       "      <th>YearRemodAdd</th>\n",
       "      <th>ExterQual</th>\n",
       "      <th>TotalBsmtSF</th>\n",
       "      <th>1stFlrSF</th>\n",
       "      <th>GrLivArea</th>\n",
       "      <th>FullBath</th>\n",
       "      <th>TotRmsAbvGrd</th>\n",
       "      <th>GarageCars</th>\n",
       "      <th>GarageArea</th>\n",
       "      <th>Neighborhood</th>\n",
       "      <th>HouseStyle</th>\n",
       "      <th>KitchenQual</th>\n",
       "      <th>BldgType</th>\n",
       "      <th>OverallCond</th>\n",
       "    </tr>\n",
       "  </thead>\n",
       "  <tbody>\n",
       "    <tr>\n",
       "      <th>0</th>\n",
       "      <td>5</td>\n",
       "      <td>1961</td>\n",
       "      <td>1961</td>\n",
       "      <td>3</td>\n",
       "      <td>882.0</td>\n",
       "      <td>896</td>\n",
       "      <td>896</td>\n",
       "      <td>1</td>\n",
       "      <td>5</td>\n",
       "      <td>1.0</td>\n",
       "      <td>730.0</td>\n",
       "      <td>12</td>\n",
       "      <td>2</td>\n",
       "      <td>3</td>\n",
       "      <td>0</td>\n",
       "      <td>6</td>\n",
       "    </tr>\n",
       "    <tr>\n",
       "      <th>1</th>\n",
       "      <td>6</td>\n",
       "      <td>1958</td>\n",
       "      <td>1958</td>\n",
       "      <td>3</td>\n",
       "      <td>1329.0</td>\n",
       "      <td>1329</td>\n",
       "      <td>1329</td>\n",
       "      <td>1</td>\n",
       "      <td>6</td>\n",
       "      <td>1.0</td>\n",
       "      <td>312.0</td>\n",
       "      <td>12</td>\n",
       "      <td>2</td>\n",
       "      <td>2</td>\n",
       "      <td>0</td>\n",
       "      <td>6</td>\n",
       "    </tr>\n",
       "  </tbody>\n",
       "</table>\n",
       "</div>"
      ],
      "text/plain": [
       "   OverallQual  YearBuilt  YearRemodAdd  ExterQual  TotalBsmtSF  1stFlrSF  \\\n",
       "0            5       1961          1961          3        882.0       896   \n",
       "1            6       1958          1958          3       1329.0      1329   \n",
       "\n",
       "   GrLivArea  FullBath  TotRmsAbvGrd  GarageCars  GarageArea  Neighborhood  \\\n",
       "0        896         1             5         1.0       730.0            12   \n",
       "1       1329         1             6         1.0       312.0            12   \n",
       "\n",
       "   HouseStyle  KitchenQual  BldgType  OverallCond  \n",
       "0           2            3         0            6  \n",
       "1           2            2         0            6  "
      ]
     },
     "execution_count": 68,
     "metadata": {},
     "output_type": "execute_result"
    }
   ],
   "source": [
    "encode_df(test_y)\n",
    "test_y.head(2)"
   ]
  },
  {
   "cell_type": "code",
   "execution_count": 69,
   "metadata": {},
   "outputs": [],
   "source": [
    "normed_test = norm(test_y)"
   ]
  },
  {
   "cell_type": "code",
   "execution_count": 70,
   "metadata": {},
   "outputs": [
    {
     "name": "stdout",
     "output_type": "stream",
     "text": [
      "1459\n"
     ]
    }
   ],
   "source": [
    "print(len(test_y))"
   ]
  },
  {
   "cell_type": "code",
   "execution_count": 71,
   "metadata": {},
   "outputs": [
    {
     "name": "stdout",
     "output_type": "stream",
     "text": [
      "Enter a Record number - between 0 and 1458 - from the dataset,\n",
      "to generate a house price estimate: 567\n",
      "\n",
      "\n",
      "OverallQual : 7\n",
      "YearBuilt : 2007\n",
      "YearRemodAdd : 2007\n",
      "ExterQual : 2\n",
      "TotalBsmtSF : 689.0\n",
      "1stFlrSF : 703\n",
      "GrLivArea : 1392\n",
      "FullBath : 2\n",
      "TotRmsAbvGrd : 5\n",
      "GarageCars : 2.0\n",
      "GarageArea : 540.0\n",
      "Neighborhood : 21\n",
      "HouseStyle : 4\n",
      "KitchenQual : 2\n",
      "BldgType : 4\n",
      "OverallCond : 5\n",
      "\n",
      "The estimated price of the home using;\n",
      "\n",
      "Random Forest is:              $173026.00\n",
      "\n",
      "KERAS Sequential is:           $163254.00\n",
      "\n",
      "Linear Regression is:          $179252.00\n",
      "\n",
      "Decision Tree Regression is:   $163310.00\n"
     ]
    }
   ],
   "source": [
    "m = int(input('Enter a Record number - between 0 and 1458 - from the dataset,\\nto generate a house price estimate: '))\n",
    "n = len(test_y.columns) - 1\n",
    "o = 0\n",
    "p = normed_test.iloc[m].tolist()\n",
    "value1 = forest_mod.predict([p]).flatten().round()\n",
    "value2 = keras_mod.predict([p]).flatten().round()\n",
    "value3 = linear_mod.predict([p]).flatten().round()\n",
    "value4 = decision_mod.predict([p]).flatten().round()\n",
    "print('\\n')\n",
    "while o <= n:\n",
    "    print(test_y.columns[o],':', test_y.iloc[m,o])\n",
    "    o += 1\n",
    "print('\\nThe estimated price of the home using;')\n",
    "print('\\nRandom Forest is:              $'+str(value1[0])+str(0))\n",
    "print('\\nKERAS Sequential is:           $'+str(value2[0])+str(0))\n",
    "print('\\nLinear Regression is:          $'+str(value3[0])+str(0))\n",
    "print('\\nDecision Tree Regression is:   $'+str(value4[0])+str(0))"
   ]
  },
  {
   "cell_type": "markdown",
   "metadata": {},
   "source": [
    "---\n",
    "- OverallQual is 1(Very Poor) to 10(Very Excellent)\n",
    "- HouseStyle is 1 for One story, 2-3 for One and half story, 4 Two Story, 5-6 Two and one half story, 7-8 Split Foyer\n",
    "- KitchenQual is -1 to 3\n",
    "- ExterQual is 0 to 3\n",
    "- BldgType is 0 to 5\n",
    "---"
   ]
  },
  {
   "cell_type": "code",
   "execution_count": 72,
   "metadata": {
    "scrolled": false
   },
   "outputs": [
    {
     "name": "stdout",
     "output_type": "stream",
     "text": [
      "Enter required values to generate a house price estimate: \n",
      "OverallQual:5\n",
      "YearBuilt:2007\n",
      "YearRemodAdd:2011\n",
      "ExterQual:1\n",
      "TotalBsmtSF:5\n",
      "1stFlrSF:5\n",
      "GrLivArea:5\n",
      "FullBath:5\n",
      "TotRmsAbvGrd:5\n",
      "GarageCars:5\n",
      "GarageArea:5\n",
      "Neighborhood:5\n",
      "HouseStyle:5\n",
      "KitchenQual:5\n",
      "BldgType:5\n",
      "OverallCond:5\n",
      "\n",
      "\n",
      "\n",
      "The estimated price of the home using;\n",
      "\n",
      "Random Forest is:              $112474.00\n",
      "\n",
      "KERAS Sequential is:           $113139.00\n",
      "\n",
      "Linear Regression is:          $125334.00\n",
      "\n",
      "Decision Tree Regression is:   $158853.00\n"
     ]
    }
   ],
   "source": [
    "print('Enter required values to generate a house price estimate: ')\n",
    "arr = []\n",
    "arr_columns = test_y.columns\n",
    "for c in arr_columns:\n",
    "    row = int(input('%s:' % c))\n",
    "    arr.append(row)\n",
    "estimate = norm(arr).tolist()\n",
    "value1 = forest_mod.predict([estimate]).flatten().round()\n",
    "value2 = keras_mod.predict([estimate]).flatten().round()\n",
    "value3 = linear_mod.predict([estimate]).flatten().round()\n",
    "value4 = decision_mod.predict([estimate]).flatten().round()\n",
    "print('\\n')\n",
    "while o <= n:\n",
    "    print(test_y.columns[o],':', test_y.iloc[m,o])\n",
    "    o += 1\n",
    "print('\\nThe estimated price of the home using;')\n",
    "print('\\nRandom Forest is:              $'+str(value1[0])+str(0))\n",
    "print('\\nKERAS Sequential is:           $'+str(value2[0])+str(0))\n",
    "print('\\nLinear Regression is:          $'+str(value3[0])+str(0))\n",
    "print('\\nDecision Tree Regression is:   $'+str(value4[0])+str(0))"
   ]
  },
  {
   "cell_type": "code",
   "execution_count": 74,
   "metadata": {},
   "outputs": [
    {
     "data": {
      "image/png": "[encoded data removed]",
      "text/plain": [
       "<Figure size 1008x720 with 1 Axes>"
      ]
     },
     "metadata": {
      "needs_background": "light"
     },
     "output_type": "display_data"
    }
   ],
   "source": [
    "plt.figure(figsize=[14.0,10.0])\n",
    "plt.scatter(axis,saleprice, marker='+', c='b', alpha=0.5)\n",
    "plt.scatter(axis,test_predictions, marker='o',c='r', alpha=0.75)\n",
    "plt.savefig('both_plot.svg')"
   ]
  },
  {
   "cell_type": "markdown",
   "metadata": {},
   "source": [
    "Random Forest is:              $190196.00\n",
    "\n",
    "KERAS Sequential is:           $156905.00\n",
    "\n",
    "Linear Regression is:          $144265.00\n",
    "\n",
    "Decision Tree Regression is:   $229387.00"
   ]
  },
  {
   "cell_type": "markdown",
   "metadata": {},
   "source": [
    "Random Forest is:              $212979.00\n",
    "\n",
    "KERAS Sequential is:           $237672.00\n",
    "\n",
    "Linear Regression is:          $171429.00\n",
    "\n",
    "Decision Tree Regression is:   $168135.00"
   ]
  },
  {
   "cell_type": "code",
   "execution_count": null,
   "metadata": {},
   "outputs": [],
   "source": []
  }
 ],
 "metadata": {
  "kernelspec": {
   "display_name": "Python 3",
   "language": "python",
   "name": "python3"
  },
  "language_info": {
   "codemirror_mode": {
    "name": "ipython",
    "version": 3
   },
   "file_extension": ".py",
   "mimetype": "text/x-python",
   "name": "python",
   "nbconvert_exporter": "python",
   "pygments_lexer": "ipython3",
   "version": "3.7.6"
  }
 },
 "nbformat": 4,
 "nbformat_minor": 2
}
